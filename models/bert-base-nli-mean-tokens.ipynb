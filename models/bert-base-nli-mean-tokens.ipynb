{
 "cells": [
  {
   "cell_type": "code",
   "execution_count": 1,
   "id": "3584d13b",
   "metadata": {},
   "outputs": [],
   "source": [
    "import pandas as pd\n",
    "import numpy as np"
   ]
  },
  {
   "cell_type": "code",
   "execution_count": 2,
   "id": "bc48c80d",
   "metadata": {},
   "outputs": [],
   "source": [
    "data = '../data/patsnap_data.xlsx'\n",
    "patent_data = pd.read_excel(data, sheet_name='sheet1')"
   ]
  },
  {
   "cell_type": "code",
   "execution_count": 5,
   "id": "87d086b6",
   "metadata": {},
   "outputs": [
    {
     "data": {
      "text/html": [
       "<div>\n",
       "<style scoped>\n",
       "    .dataframe tbody tr th:only-of-type {\n",
       "        vertical-align: middle;\n",
       "    }\n",
       "\n",
       "    .dataframe tbody tr th {\n",
       "        vertical-align: top;\n",
       "    }\n",
       "\n",
       "    .dataframe thead th {\n",
       "        text-align: right;\n",
       "    }\n",
       "</style>\n",
       "<table border=\"1\" class=\"dataframe\">\n",
       "  <thead>\n",
       "    <tr style=\"text-align: right;\">\n",
       "      <th></th>\n",
       "      <th>Number</th>\n",
       "      <th>Publication Number</th>\n",
       "      <th>Title</th>\n",
       "      <th>Legal Status &amp; Events</th>\n",
       "      <th>Current Assignee</th>\n",
       "      <th>Application Date</th>\n",
       "      <th>IPC</th>\n",
       "      <th>Patent Valuation</th>\n",
       "      <th>Abstract</th>\n",
       "      <th>Abstract (Translated)(English)</th>\n",
       "      <th>Claims</th>\n",
       "      <th>Title (Translated)(English)</th>\n",
       "      <th>CPC</th>\n",
       "    </tr>\n",
       "  </thead>\n",
       "  <tbody>\n",
       "    <tr>\n",
       "      <th>0</th>\n",
       "      <td>1</td>\n",
       "      <td>US6056237A</td>\n",
       "      <td>Sonotube compatible unmanned aerial vehicle an...</td>\n",
       "      <td>Non-payment</td>\n",
       "      <td>1281329 ALBERTA LTD.</td>\n",
       "      <td>1997-06-25</td>\n",
       "      <td>B64D1/02 | B64D1/00 | B64D33/02 | B64C39/00 | ...</td>\n",
       "      <td>-</td>\n",
       "      <td>The present invention is generally comprised o...</td>\n",
       "      <td>The present invention is generally comprised o...</td>\n",
       "      <td>I claim:_x000D_\\n1. A sonotube compatible unma...</td>\n",
       "      <td>Sonotube compatible unmanned aerial vehicle an...</td>\n",
       "      <td>B64C3/40 | B64C5/12 | B64C39/024 | B64D1/02 | ...</td>\n",
       "    </tr>\n",
       "    <tr>\n",
       "      <th>1</th>\n",
       "      <td>2</td>\n",
       "      <td>US8511606B1</td>\n",
       "      <td>Unmanned aerial vehicle base station</td>\n",
       "      <td>Granted</td>\n",
       "      <td>THE BOEING COMPANY</td>\n",
       "      <td>2009-12-09</td>\n",
       "      <td>B64D41/00</td>\n",
       "      <td>$ 56,000</td>\n",
       "      <td>A method and apparatus comprising a platform, ...</td>\n",
       "      <td>A method and apparatus comprising a platform, ...</td>\n",
       "      <td>1. An apparatus comprising:_x000D_\\na platform...</td>\n",
       "      <td>Unmanned aerial vehicle base station</td>\n",
       "      <td>B64C39/028 | B64C39/024 | B64C2201/066 | B64C2...</td>\n",
       "    </tr>\n",
       "    <tr>\n",
       "      <th>2</th>\n",
       "      <td>3</td>\n",
       "      <td>US8948935B1</td>\n",
       "      <td>Providing a medical support device via an unma...</td>\n",
       "      <td>Granted | Transfer</td>\n",
       "      <td>WING AVIATION LLC</td>\n",
       "      <td>2013-01-02</td>\n",
       "      <td>G06Q10/00 | B64C39/02 | G16H40/67</td>\n",
       "      <td>$ 79,000</td>\n",
       "      <td>Embodiments described herein may relate to an ...</td>\n",
       "      <td>Embodiments described herein may relate to an ...</td>\n",
       "      <td>1. An unmanned aerial vehicle (UAV) comprising...</td>\n",
       "      <td>Providing a medical support device via an unma...</td>\n",
       "      <td>A61B5/00 | A61B19/0264 | B64C39/024 | G06F19/3...</td>\n",
       "    </tr>\n",
       "  </tbody>\n",
       "</table>\n",
       "</div>"
      ],
      "text/plain": [
       "   Number Publication Number  \\\n",
       "0       1         US6056237A   \n",
       "1       2        US8511606B1   \n",
       "2       3        US8948935B1   \n",
       "\n",
       "                                               Title Legal Status & Events  \\\n",
       "0  Sonotube compatible unmanned aerial vehicle an...           Non-payment   \n",
       "1               Unmanned aerial vehicle base station               Granted   \n",
       "2  Providing a medical support device via an unma...    Granted | Transfer   \n",
       "\n",
       "       Current Assignee Application Date  \\\n",
       "0  1281329 ALBERTA LTD.       1997-06-25   \n",
       "1    THE BOEING COMPANY       2009-12-09   \n",
       "2     WING AVIATION LLC       2013-01-02   \n",
       "\n",
       "                                                 IPC Patent Valuation  \\\n",
       "0  B64D1/02 | B64D1/00 | B64D33/02 | B64C39/00 | ...                -   \n",
       "1                                          B64D41/00         $ 56,000   \n",
       "2                  G06Q10/00 | B64C39/02 | G16H40/67         $ 79,000   \n",
       "\n",
       "                                            Abstract  \\\n",
       "0  The present invention is generally comprised o...   \n",
       "1  A method and apparatus comprising a platform, ...   \n",
       "2  Embodiments described herein may relate to an ...   \n",
       "\n",
       "                      Abstract (Translated)(English)  \\\n",
       "0  The present invention is generally comprised o...   \n",
       "1  A method and apparatus comprising a platform, ...   \n",
       "2  Embodiments described herein may relate to an ...   \n",
       "\n",
       "                                              Claims  \\\n",
       "0  I claim:_x000D_\\n1. A sonotube compatible unma...   \n",
       "1  1. An apparatus comprising:_x000D_\\na platform...   \n",
       "2  1. An unmanned aerial vehicle (UAV) comprising...   \n",
       "\n",
       "                         Title (Translated)(English)  \\\n",
       "0  Sonotube compatible unmanned aerial vehicle an...   \n",
       "1               Unmanned aerial vehicle base station   \n",
       "2  Providing a medical support device via an unma...   \n",
       "\n",
       "                                                 CPC  \n",
       "0  B64C3/40 | B64C5/12 | B64C39/024 | B64D1/02 | ...  \n",
       "1  B64C39/028 | B64C39/024 | B64C2201/066 | B64C2...  \n",
       "2  A61B5/00 | A61B19/0264 | B64C39/024 | G06F19/3...  "
      ]
     },
     "execution_count": 5,
     "metadata": {},
     "output_type": "execute_result"
    }
   ],
   "source": [
    "patent_data.head(3)"
   ]
  },
  {
   "cell_type": "code",
   "execution_count": 7,
   "id": "2ef966eb",
   "metadata": {},
   "outputs": [
    {
     "data": {
      "text/plain": [
       "Number                            0\n",
       "Publication Number                0\n",
       "Title                             0\n",
       "Legal Status & Events             0\n",
       "Current Assignee                  0\n",
       "Application Date                  0\n",
       "IPC                               0\n",
       "Patent Valuation                  0\n",
       "Abstract                          0\n",
       "Abstract (Translated)(English)    0\n",
       "Claims                            0\n",
       "Title (Translated)(English)       0\n",
       "CPC                               0\n",
       "dtype: int64"
      ]
     },
     "execution_count": 7,
     "metadata": {},
     "output_type": "execute_result"
    }
   ],
   "source": [
    "patent_data.isnull().sum()"
   ]
  },
  {
   "cell_type": "code",
   "execution_count": 8,
   "id": "8c06df12",
   "metadata": {},
   "outputs": [],
   "source": [
    "def clean_text(text):\n",
    "  \"\"\"\n",
    "  This function cleans text data by converting to lowercase, removing punctuation,\n",
    "  and performing optional stemming or lemmatization.\n",
    "\n",
    "  Args:\n",
    "      text (str): The text data to be cleaned.\n",
    "\n",
    "  Returns:\n",
    "      str: The cleaned text data.\n",
    "  \"\"\"\n",
    "  # Convert to lowercase\n",
    "  text = text.lower()\n",
    "\n",
    "  # Remove punctuation\n",
    "  import string\n",
    "  punctuations = string.punctuation\n",
    "  text = text.translate(str.maketrans('', '', punctuations))\n",
    "\n",
    "  # Optional: Stemming or Lemmatization (choose one and uncomment)\n",
    "  # from nltk.stem import PorterStemmer\n",
    "  # stemmer = PorterStemmer()\n",
    "  # text = stemmer.stem(text)\n",
    "\n",
    "  # from nltk.stem import WordNetLemmatizer\n",
    "  # lemmatizer = WordNetLemmatizer()\n",
    "  # text = lemmatizer.lemmatize(text)\n",
    "\n",
    "  return text\n"
   ]
  },
  {
   "cell_type": "code",
   "execution_count": 9,
   "id": "6722da01",
   "metadata": {},
   "outputs": [],
   "source": [
    "# Cos Title and Abstract columns contain text data for cleaning\n",
    "patent_data['Cleaned_Title'] = patent_data['Title'].apply(clean_text)\n",
    "patent_data['Cleaned_Abstract'] = patent_data['Abstract'].apply(clean_text)"
   ]
  },
  {
   "cell_type": "code",
   "execution_count": 10,
   "id": "8363d526",
   "metadata": {},
   "outputs": [
    {
     "data": {
      "text/html": [
       "<div>\n",
       "<style scoped>\n",
       "    .dataframe tbody tr th:only-of-type {\n",
       "        vertical-align: middle;\n",
       "    }\n",
       "\n",
       "    .dataframe tbody tr th {\n",
       "        vertical-align: top;\n",
       "    }\n",
       "\n",
       "    .dataframe thead th {\n",
       "        text-align: right;\n",
       "    }\n",
       "</style>\n",
       "<table border=\"1\" class=\"dataframe\">\n",
       "  <thead>\n",
       "    <tr style=\"text-align: right;\">\n",
       "      <th></th>\n",
       "      <th>Number</th>\n",
       "      <th>Publication Number</th>\n",
       "      <th>Title</th>\n",
       "      <th>Legal Status &amp; Events</th>\n",
       "      <th>Current Assignee</th>\n",
       "      <th>Application Date</th>\n",
       "      <th>IPC</th>\n",
       "      <th>Patent Valuation</th>\n",
       "      <th>Abstract</th>\n",
       "      <th>Abstract (Translated)(English)</th>\n",
       "      <th>Claims</th>\n",
       "      <th>Title (Translated)(English)</th>\n",
       "      <th>CPC</th>\n",
       "      <th>Cleaned_Title</th>\n",
       "      <th>Cleaned_Abstract</th>\n",
       "    </tr>\n",
       "  </thead>\n",
       "  <tbody>\n",
       "    <tr>\n",
       "      <th>0</th>\n",
       "      <td>1</td>\n",
       "      <td>US6056237A</td>\n",
       "      <td>Sonotube compatible unmanned aerial vehicle an...</td>\n",
       "      <td>Non-payment</td>\n",
       "      <td>1281329 ALBERTA LTD.</td>\n",
       "      <td>1997-06-25</td>\n",
       "      <td>B64D1/02 | B64D1/00 | B64D33/02 | B64C39/00 | ...</td>\n",
       "      <td>-</td>\n",
       "      <td>The present invention is generally comprised o...</td>\n",
       "      <td>The present invention is generally comprised o...</td>\n",
       "      <td>I claim:_x000D_\\n1. A sonotube compatible unma...</td>\n",
       "      <td>Sonotube compatible unmanned aerial vehicle an...</td>\n",
       "      <td>B64C3/40 | B64C5/12 | B64C39/024 | B64D1/02 | ...</td>\n",
       "      <td>sonotube compatible unmanned aerial vehicle an...</td>\n",
       "      <td>the present invention is generally comprised o...</td>\n",
       "    </tr>\n",
       "    <tr>\n",
       "      <th>1</th>\n",
       "      <td>2</td>\n",
       "      <td>US8511606B1</td>\n",
       "      <td>Unmanned aerial vehicle base station</td>\n",
       "      <td>Granted</td>\n",
       "      <td>THE BOEING COMPANY</td>\n",
       "      <td>2009-12-09</td>\n",
       "      <td>B64D41/00</td>\n",
       "      <td>$ 56,000</td>\n",
       "      <td>A method and apparatus comprising a platform, ...</td>\n",
       "      <td>A method and apparatus comprising a platform, ...</td>\n",
       "      <td>1. An apparatus comprising:_x000D_\\na platform...</td>\n",
       "      <td>Unmanned aerial vehicle base station</td>\n",
       "      <td>B64C39/028 | B64C39/024 | B64C2201/066 | B64C2...</td>\n",
       "      <td>unmanned aerial vehicle base station</td>\n",
       "      <td>a method and apparatus comprising a platform a...</td>\n",
       "    </tr>\n",
       "    <tr>\n",
       "      <th>2</th>\n",
       "      <td>3</td>\n",
       "      <td>US8948935B1</td>\n",
       "      <td>Providing a medical support device via an unma...</td>\n",
       "      <td>Granted | Transfer</td>\n",
       "      <td>WING AVIATION LLC</td>\n",
       "      <td>2013-01-02</td>\n",
       "      <td>G06Q10/00 | B64C39/02 | G16H40/67</td>\n",
       "      <td>$ 79,000</td>\n",
       "      <td>Embodiments described herein may relate to an ...</td>\n",
       "      <td>Embodiments described herein may relate to an ...</td>\n",
       "      <td>1. An unmanned aerial vehicle (UAV) comprising...</td>\n",
       "      <td>Providing a medical support device via an unma...</td>\n",
       "      <td>A61B5/00 | A61B19/0264 | B64C39/024 | G06F19/3...</td>\n",
       "      <td>providing a medical support device via an unma...</td>\n",
       "      <td>embodiments described herein may relate to an ...</td>\n",
       "    </tr>\n",
       "    <tr>\n",
       "      <th>3</th>\n",
       "      <td>4</td>\n",
       "      <td>US20100250022A1</td>\n",
       "      <td>Useful unmanned aerial vehicle</td>\n",
       "      <td>Withdrawn-Deemed</td>\n",
       "      <td>AIR RECON, INC.</td>\n",
       "      <td>2006-12-29</td>\n",
       "      <td>G05D1/00 | B64C13/20 | G06F3/048</td>\n",
       "      <td>-</td>\n",
       "      <td>An unmanned aerial vehicle (UAV) addresses rem...</td>\n",
       "      <td>An unmanned aerial vehicle (UAV) addresses rem...</td>\n",
       "      <td>1-17. (canceled)_x000D_\\n18. A method of opera...</td>\n",
       "      <td>Useful unmanned aerial vehicle</td>\n",
       "      <td>B64C2201/141 | B64C2201/145 | G05D1/0094 | G05...</td>\n",
       "      <td>useful unmanned aerial vehicle</td>\n",
       "      <td>an unmanned aerial vehicle uav addresses remot...</td>\n",
       "    </tr>\n",
       "    <tr>\n",
       "      <th>4</th>\n",
       "      <td>5</td>\n",
       "      <td>US20110084162A1</td>\n",
       "      <td>Autonomous Payload Parsing Management System a...</td>\n",
       "      <td>Abandoned-Undetermined</td>\n",
       "      <td>HONEYWELL INTERNATIONAL INC.</td>\n",
       "      <td>2009-10-09</td>\n",
       "      <td>B64C29/00 | G01M1/12 | B64C17/10 | B64D37/14 |...</td>\n",
       "      <td>-</td>\n",
       "      <td>An unmanned aerial vehicle (UAV) for making pa...</td>\n",
       "      <td>An unmanned aerial vehicle (UAV) for making pa...</td>\n",
       "      <td>1. An unmanned aerial vehicle (UAV) for making...</td>\n",
       "      <td>Autonomous Payload Parsing Management System a...</td>\n",
       "      <td>B64C39/024 | B64C2201/027 | B64C2201/088 | B64...</td>\n",
       "      <td>autonomous payload parsing management system a...</td>\n",
       "      <td>an unmanned aerial vehicle uav for making part...</td>\n",
       "    </tr>\n",
       "  </tbody>\n",
       "</table>\n",
       "</div>"
      ],
      "text/plain": [
       "   Number Publication Number  \\\n",
       "0       1         US6056237A   \n",
       "1       2        US8511606B1   \n",
       "2       3        US8948935B1   \n",
       "3       4    US20100250022A1   \n",
       "4       5    US20110084162A1   \n",
       "\n",
       "                                               Title   Legal Status & Events  \\\n",
       "0  Sonotube compatible unmanned aerial vehicle an...             Non-payment   \n",
       "1               Unmanned aerial vehicle base station                 Granted   \n",
       "2  Providing a medical support device via an unma...      Granted | Transfer   \n",
       "3                     Useful unmanned aerial vehicle        Withdrawn-Deemed   \n",
       "4  Autonomous Payload Parsing Management System a...  Abandoned-Undetermined   \n",
       "\n",
       "               Current Assignee Application Date  \\\n",
       "0          1281329 ALBERTA LTD.       1997-06-25   \n",
       "1            THE BOEING COMPANY       2009-12-09   \n",
       "2             WING AVIATION LLC       2013-01-02   \n",
       "3               AIR RECON, INC.       2006-12-29   \n",
       "4  HONEYWELL INTERNATIONAL INC.       2009-10-09   \n",
       "\n",
       "                                                 IPC Patent Valuation  \\\n",
       "0  B64D1/02 | B64D1/00 | B64D33/02 | B64C39/00 | ...                -   \n",
       "1                                          B64D41/00         $ 56,000   \n",
       "2                  G06Q10/00 | B64C39/02 | G16H40/67         $ 79,000   \n",
       "3                   G05D1/00 | B64C13/20 | G06F3/048                -   \n",
       "4  B64C29/00 | G01M1/12 | B64C17/10 | B64D37/14 |...                -   \n",
       "\n",
       "                                            Abstract  \\\n",
       "0  The present invention is generally comprised o...   \n",
       "1  A method and apparatus comprising a platform, ...   \n",
       "2  Embodiments described herein may relate to an ...   \n",
       "3  An unmanned aerial vehicle (UAV) addresses rem...   \n",
       "4  An unmanned aerial vehicle (UAV) for making pa...   \n",
       "\n",
       "                      Abstract (Translated)(English)  \\\n",
       "0  The present invention is generally comprised o...   \n",
       "1  A method and apparatus comprising a platform, ...   \n",
       "2  Embodiments described herein may relate to an ...   \n",
       "3  An unmanned aerial vehicle (UAV) addresses rem...   \n",
       "4  An unmanned aerial vehicle (UAV) for making pa...   \n",
       "\n",
       "                                              Claims  \\\n",
       "0  I claim:_x000D_\\n1. A sonotube compatible unma...   \n",
       "1  1. An apparatus comprising:_x000D_\\na platform...   \n",
       "2  1. An unmanned aerial vehicle (UAV) comprising...   \n",
       "3  1-17. (canceled)_x000D_\\n18. A method of opera...   \n",
       "4  1. An unmanned aerial vehicle (UAV) for making...   \n",
       "\n",
       "                         Title (Translated)(English)  \\\n",
       "0  Sonotube compatible unmanned aerial vehicle an...   \n",
       "1               Unmanned aerial vehicle base station   \n",
       "2  Providing a medical support device via an unma...   \n",
       "3                     Useful unmanned aerial vehicle   \n",
       "4  Autonomous Payload Parsing Management System a...   \n",
       "\n",
       "                                                 CPC  \\\n",
       "0  B64C3/40 | B64C5/12 | B64C39/024 | B64D1/02 | ...   \n",
       "1  B64C39/028 | B64C39/024 | B64C2201/066 | B64C2...   \n",
       "2  A61B5/00 | A61B19/0264 | B64C39/024 | G06F19/3...   \n",
       "3  B64C2201/141 | B64C2201/145 | G05D1/0094 | G05...   \n",
       "4  B64C39/024 | B64C2201/027 | B64C2201/088 | B64...   \n",
       "\n",
       "                                       Cleaned_Title  \\\n",
       "0  sonotube compatible unmanned aerial vehicle an...   \n",
       "1               unmanned aerial vehicle base station   \n",
       "2  providing a medical support device via an unma...   \n",
       "3                     useful unmanned aerial vehicle   \n",
       "4  autonomous payload parsing management system a...   \n",
       "\n",
       "                                    Cleaned_Abstract  \n",
       "0  the present invention is generally comprised o...  \n",
       "1  a method and apparatus comprising a platform a...  \n",
       "2  embodiments described herein may relate to an ...  \n",
       "3  an unmanned aerial vehicle uav addresses remot...  \n",
       "4  an unmanned aerial vehicle uav for making part...  "
      ]
     },
     "execution_count": 10,
     "metadata": {},
     "output_type": "execute_result"
    }
   ],
   "source": [
    "patent_data.head()"
   ]
  },
  {
   "cell_type": "code",
   "execution_count": 11,
   "id": "26f10d2a",
   "metadata": {},
   "outputs": [
    {
     "name": "stdout",
     "output_type": "stream",
     "text": [
      "Requirement already satisfied: sentence-transformers in d:\\anaconda\\lib\\site-packages (2.2.2)\n",
      "Requirement already satisfied: transformers<5.0.0,>=4.6.0 in d:\\anaconda\\lib\\site-packages (from sentence-transformers) (4.32.1)\n",
      "Requirement already satisfied: tqdm in d:\\anaconda\\lib\\site-packages (from sentence-transformers) (4.65.0)\n",
      "Requirement already satisfied: torch>=1.6.0 in d:\\anaconda\\lib\\site-packages (from sentence-transformers) (2.1.1)\n",
      "Requirement already satisfied: torchvision in d:\\anaconda\\lib\\site-packages (from sentence-transformers) (0.16.1)\n",
      "Requirement already satisfied: numpy in c:\\users\\hp\\appdata\\roaming\\python\\python311\\site-packages (from sentence-transformers) (1.24.1)\n",
      "Requirement already satisfied: scikit-learn in d:\\anaconda\\lib\\site-packages (from sentence-transformers) (1.3.0)\n",
      "Requirement already satisfied: scipy in d:\\anaconda\\lib\\site-packages (from sentence-transformers) (1.11.4)\n",
      "Requirement already satisfied: nltk in d:\\anaconda\\lib\\site-packages (from sentence-transformers) (3.8.1)\n",
      "Requirement already satisfied: sentencepiece in d:\\anaconda\\lib\\site-packages (from sentence-transformers) (0.1.99)\n",
      "Requirement already satisfied: huggingface-hub>=0.4.0 in d:\\anaconda\\lib\\site-packages (from sentence-transformers) (0.17.3)\n",
      "Requirement already satisfied: filelock in d:\\anaconda\\lib\\site-packages (from huggingface-hub>=0.4.0->sentence-transformers) (3.13.1)\n",
      "Requirement already satisfied: fsspec in d:\\anaconda\\lib\\site-packages (from huggingface-hub>=0.4.0->sentence-transformers) (2023.10.0)\n",
      "Requirement already satisfied: requests in d:\\anaconda\\lib\\site-packages (from huggingface-hub>=0.4.0->sentence-transformers) (2.31.0)\n",
      "Requirement already satisfied: pyyaml>=5.1 in d:\\anaconda\\lib\\site-packages (from huggingface-hub>=0.4.0->sentence-transformers) (6.0.1)\n",
      "Requirement already satisfied: typing-extensions>=3.7.4.3 in d:\\anaconda\\lib\\site-packages (from huggingface-hub>=0.4.0->sentence-transformers) (4.5.0)\n",
      "Requirement already satisfied: packaging>=20.9 in c:\\users\\hp\\appdata\\roaming\\python\\python311\\site-packages (from huggingface-hub>=0.4.0->sentence-transformers) (23.1)\n",
      "Requirement already satisfied: sympy in d:\\anaconda\\lib\\site-packages (from torch>=1.6.0->sentence-transformers) (1.12)\n",
      "Requirement already satisfied: networkx in d:\\anaconda\\lib\\site-packages (from torch>=1.6.0->sentence-transformers) (3.1)\n",
      "Requirement already satisfied: jinja2 in d:\\anaconda\\lib\\site-packages (from torch>=1.6.0->sentence-transformers) (3.1.3)\n",
      "Requirement already satisfied: colorama in c:\\users\\hp\\appdata\\roaming\\python\\python311\\site-packages (from tqdm->sentence-transformers) (0.4.6)\n",
      "Requirement already satisfied: regex!=2019.12.17 in d:\\anaconda\\lib\\site-packages (from transformers<5.0.0,>=4.6.0->sentence-transformers) (2023.10.3)\n",
      "Requirement already satisfied: tokenizers!=0.11.3,<0.14,>=0.11.1 in d:\\anaconda\\lib\\site-packages (from transformers<5.0.0,>=4.6.0->sentence-transformers) (0.13.3)\n",
      "Requirement already satisfied: safetensors>=0.3.1 in d:\\anaconda\\lib\\site-packages (from transformers<5.0.0,>=4.6.0->sentence-transformers) (0.4.0)\n",
      "Requirement already satisfied: click in d:\\anaconda\\lib\\site-packages (from nltk->sentence-transformers) (8.1.7)\n",
      "Requirement already satisfied: joblib in d:\\anaconda\\lib\\site-packages (from nltk->sentence-transformers) (1.2.0)\n",
      "Requirement already satisfied: threadpoolctl>=2.0.0 in d:\\anaconda\\lib\\site-packages (from scikit-learn->sentence-transformers) (2.2.0)\n",
      "Requirement already satisfied: pillow!=8.3.*,>=5.3.0 in d:\\anaconda\\lib\\site-packages (from torchvision->sentence-transformers) (10.2.0)\n",
      "Requirement already satisfied: MarkupSafe>=2.0 in d:\\anaconda\\lib\\site-packages (from jinja2->torch>=1.6.0->sentence-transformers) (2.1.3)\n",
      "Requirement already satisfied: charset-normalizer<4,>=2 in d:\\anaconda\\lib\\site-packages (from requests->huggingface-hub>=0.4.0->sentence-transformers) (2.0.4)\n",
      "Requirement already satisfied: idna<4,>=2.5 in d:\\anaconda\\lib\\site-packages (from requests->huggingface-hub>=0.4.0->sentence-transformers) (3.4)\n",
      "Requirement already satisfied: urllib3<3,>=1.21.1 in d:\\anaconda\\lib\\site-packages (from requests->huggingface-hub>=0.4.0->sentence-transformers) (1.26.18)\n",
      "Requirement already satisfied: certifi>=2017.4.17 in d:\\anaconda\\lib\\site-packages (from requests->huggingface-hub>=0.4.0->sentence-transformers) (2024.2.2)\n",
      "Requirement already satisfied: mpmath>=0.19 in d:\\anaconda\\lib\\site-packages (from sympy->torch>=1.6.0->sentence-transformers) (1.3.0)\n",
      "Note: you may need to restart the kernel to use updated packages.\n"
     ]
    }
   ],
   "source": [
    "# Install the library using pip\n",
    "#!pip install sentence-transformers\n",
    "%pip install sentence-transformers --user"
   ]
  },
  {
   "cell_type": "code",
   "execution_count": 12,
   "id": "7b7cc1ea",
   "metadata": {},
   "outputs": [
    {
     "data": {
      "application/vnd.jupyter.widget-view+json": {
       "model_id": "2510d934451f4d199a63f30e4a57a8dd",
       "version_major": 2,
       "version_minor": 0
      },
      "text/plain": [
       "Downloading .gitattributes:   0%|          | 0.00/445 [00:00<?, ?B/s]"
      ]
     },
     "metadata": {},
     "output_type": "display_data"
    },
    {
     "data": {
      "application/vnd.jupyter.widget-view+json": {
       "model_id": "763c8e6ca14e4fada186629c5bc63cb5",
       "version_major": 2,
       "version_minor": 0
      },
      "text/plain": [
       "Downloading 1_Pooling/config.json:   0%|          | 0.00/190 [00:00<?, ?B/s]"
      ]
     },
     "metadata": {},
     "output_type": "display_data"
    },
    {
     "data": {
      "application/vnd.jupyter.widget-view+json": {
       "model_id": "e1f74650853b4acba1bf6390a3c40ea7",
       "version_major": 2,
       "version_minor": 0
      },
      "text/plain": [
       "Downloading README.md:   0%|          | 0.00/3.99k [00:00<?, ?B/s]"
      ]
     },
     "metadata": {},
     "output_type": "display_data"
    },
    {
     "data": {
      "application/vnd.jupyter.widget-view+json": {
       "model_id": "50a4fc3e5fe84f8caba9d6205cb30ab7",
       "version_major": 2,
       "version_minor": 0
      },
      "text/plain": [
       "Downloading added_tokens.json:   0%|          | 0.00/2.00 [00:00<?, ?B/s]"
      ]
     },
     "metadata": {},
     "output_type": "display_data"
    },
    {
     "data": {
      "application/vnd.jupyter.widget-view+json": {
       "model_id": "3af111ddd30349089e6dcbad04a0e1aa",
       "version_major": 2,
       "version_minor": 0
      },
      "text/plain": [
       "Downloading config.json:   0%|          | 0.00/625 [00:00<?, ?B/s]"
      ]
     },
     "metadata": {},
     "output_type": "display_data"
    },
    {
     "data": {
      "application/vnd.jupyter.widget-view+json": {
       "model_id": "3b2821be292549a6b7f874ab35356886",
       "version_major": 2,
       "version_minor": 0
      },
      "text/plain": [
       "Downloading (…)ce_transformers.json:   0%|          | 0.00/122 [00:00<?, ?B/s]"
      ]
     },
     "metadata": {},
     "output_type": "display_data"
    },
    {
     "data": {
      "application/vnd.jupyter.widget-view+json": {
       "model_id": "6862dede72194ce096339aa8882f84fb",
       "version_major": 2,
       "version_minor": 0
      },
      "text/plain": [
       "Downloading model.safetensors:   0%|          | 0.00/438M [00:00<?, ?B/s]"
      ]
     },
     "metadata": {},
     "output_type": "display_data"
    },
    {
     "data": {
      "application/vnd.jupyter.widget-view+json": {
       "model_id": "ad1adaf82b674435962d482dc986f8c2",
       "version_major": 2,
       "version_minor": 0
      },
      "text/plain": [
       "Downloading pytorch_model.bin:   0%|          | 0.00/438M [00:00<?, ?B/s]"
      ]
     },
     "metadata": {},
     "output_type": "display_data"
    },
    {
     "data": {
      "application/vnd.jupyter.widget-view+json": {
       "model_id": "32ba39f636e2421c8b7b67dfccac56de",
       "version_major": 2,
       "version_minor": 0
      },
      "text/plain": [
       "Downloading (…)nce_bert_config.json:   0%|          | 0.00/53.0 [00:00<?, ?B/s]"
      ]
     },
     "metadata": {},
     "output_type": "display_data"
    },
    {
     "data": {
      "application/vnd.jupyter.widget-view+json": {
       "model_id": "3b14da5767e44e3a9362331af703c5aa",
       "version_major": 2,
       "version_minor": 0
      },
      "text/plain": [
       "Downloading (…)cial_tokens_map.json:   0%|          | 0.00/112 [00:00<?, ?B/s]"
      ]
     },
     "metadata": {},
     "output_type": "display_data"
    },
    {
     "data": {
      "application/vnd.jupyter.widget-view+json": {
       "model_id": "183c807d26dd424eb489be58cf13cba3",
       "version_major": 2,
       "version_minor": 0
      },
      "text/plain": [
       "Downloading tokenizer.json:   0%|          | 0.00/466k [00:00<?, ?B/s]"
      ]
     },
     "metadata": {},
     "output_type": "display_data"
    },
    {
     "data": {
      "application/vnd.jupyter.widget-view+json": {
       "model_id": "b33b2fb1646f4587a42d8c6614885be4",
       "version_major": 2,
       "version_minor": 0
      },
      "text/plain": [
       "Downloading tokenizer_config.json:   0%|          | 0.00/399 [00:00<?, ?B/s]"
      ]
     },
     "metadata": {},
     "output_type": "display_data"
    },
    {
     "data": {
      "application/vnd.jupyter.widget-view+json": {
       "model_id": "5fe7d16931504d47956324a91ea20982",
       "version_major": 2,
       "version_minor": 0
      },
      "text/plain": [
       "Downloading vocab.txt:   0%|          | 0.00/232k [00:00<?, ?B/s]"
      ]
     },
     "metadata": {},
     "output_type": "display_data"
    },
    {
     "data": {
      "application/vnd.jupyter.widget-view+json": {
       "model_id": "a07aa9001b374ef9b992ae7f326c7db3",
       "version_major": 2,
       "version_minor": 0
      },
      "text/plain": [
       "Downloading modules.json:   0%|          | 0.00/229 [00:00<?, ?B/s]"
      ]
     },
     "metadata": {},
     "output_type": "display_data"
    }
   ],
   "source": [
    "from sentence_transformers import SentenceTransformer\n",
    "\n",
    "# Load the BERT model. Various models trained on Natural Language Inference (NLI) https://github.com/UKPLab/sentence-transformers/blob/master/docs/pretrained-models/nli-models.md and\n",
    "# Semantic Textual Similarity are available https://github.com/UKPLab/sentence-transformers/blob/master/docs/pretrained-models/sts-models.md\n",
    "#Models to test:\n",
    "# 'all-mpnet-base-v2'\n",
    "# 'paraphrase-distilroberta-base-v2'\n",
    "# and lastly, 'bert-base-nli-mean-tokens'\n",
    "model = SentenceTransformer('bert-base-nli-mean-tokens')"
   ]
  },
  {
   "cell_type": "code",
   "execution_count": 13,
   "id": "283adee7",
   "metadata": {},
   "outputs": [],
   "source": [
    "title_list = patent_data['Cleaned_Title'].tolist()\n",
    "abstract_list = patent_data['Cleaned_Abstract'].tolist()"
   ]
  },
  {
   "cell_type": "code",
   "execution_count": 14,
   "id": "f3d9e2eb",
   "metadata": {},
   "outputs": [],
   "source": [
    "combined_list = title_list + abstract_list"
   ]
  },
  {
   "cell_type": "code",
   "execution_count": 15,
   "id": "91991e0d",
   "metadata": {},
   "outputs": [],
   "source": [
    "# Encode Title data\n",
    "title_embeddings = model.encode(patent_data['Cleaned_Title'].tolist())"
   ]
  },
  {
   "cell_type": "code",
   "execution_count": 16,
   "id": "762c4718",
   "metadata": {},
   "outputs": [
    {
     "name": "stdout",
     "output_type": "stream",
     "text": [
      "Title embedding vector - length 768\n"
     ]
    }
   ],
   "source": [
    "print('Title embedding vector - length', len(title_embeddings[0]))"
   ]
  },
  {
   "cell_type": "code",
   "execution_count": 17,
   "id": "f26ace1f",
   "metadata": {},
   "outputs": [],
   "source": [
    "# Encode Abstract data\n",
    "abstract_embeddings = model.encode(patent_data['Cleaned_Abstract'].tolist())"
   ]
  },
  {
   "cell_type": "code",
   "execution_count": 18,
   "id": "521e5adc",
   "metadata": {},
   "outputs": [
    {
     "name": "stdout",
     "output_type": "stream",
     "text": [
      "Abstract embedding vector - length 768\n"
     ]
    }
   ],
   "source": [
    "print('Abstract embedding vector - length', len(abstract_embeddings[0]))"
   ]
  },
  {
   "cell_type": "code",
   "execution_count": 21,
   "id": "babab299",
   "metadata": {},
   "outputs": [],
   "source": [
    "# Encode combinedTitleabstract_list data\n",
    "combined_list_embeddings = model.encode(combined_list)"
   ]
  },
  {
   "cell_type": "code",
   "execution_count": 22,
   "id": "0aceb2ba",
   "metadata": {},
   "outputs": [],
   "source": [
    "combined_embeddings = np.concatenate([title_embeddings, abstract_embeddings], axis=1)"
   ]
  },
  {
   "cell_type": "code",
   "execution_count": 23,
   "id": "ddaecb2f",
   "metadata": {},
   "outputs": [
    {
     "name": "stdout",
     "output_type": "stream",
     "text": [
      "Semantic Search Results\n",
      "\n",
      "\n",
      "======================\n",
      "\n",
      "\n",
      "Query: UAV Model aerospace flight\n",
      "\n",
      "Top 5 most similar sentences in corpus:\n",
      "unmanned aerial vehicle uav takeoff and landing method device and system and uav (Cosine Score: 0.9169)\n",
      "vertical takeoff and landing model aircraft unmanned aerial vehicle (Cosine Score: 0.9133)\n",
      "the monitering system for a vessle using a uav (Cosine Score: 0.8977)\n",
      "unmanned aerial vehicle uav flight control method and device (Cosine Score: 0.8920)\n",
      "navigating a uav (Cosine Score: 0.8904)\n"
     ]
    }
   ],
   "source": [
    "import scipy\n",
    "#@title Sematic Search Form\n",
    "\n",
    "# code adapted from https://github.com/UKPLab/sentence-transformers/blob/master/examples/application_semantic_search.py\n",
    "\n",
    "query = 'UAV Model aerospace flight' #@param {type: 'string'}\n",
    "\n",
    "queries = [query]\n",
    "query_embeddings = model.encode(queries)\n",
    "\n",
    "# Find the closest 5 sentences of the corpus for each query sentence based on cosine similarity\n",
    "number_top_matches = 5 #@param {type: \"number\"}\n",
    "\n",
    "print(\"Semantic Search Results\")\n",
    "\n",
    "for query, query_embedding in zip(queries, query_embeddings):\n",
    "    distances = scipy.spatial.distance.cdist([query_embedding], title_embeddings, \"cosine\")[0]\n",
    "\n",
    "    results = zip(range(len(distances)), distances)\n",
    "    results = sorted(results, key=lambda x: x[1])\n",
    "\n",
    "    print(\"\\n\\n======================\\n\\n\")\n",
    "    print(\"Query:\", query)\n",
    "    print(\"\\nTop 5 most similar sentences in corpus:\")\n",
    "\n",
    "    for idx, distance in results[0:number_top_matches]:\n",
    "        print(title_list[idx].strip(), \"(Cosine Score: %.4f)\" % (1-distance))"
   ]
  }
 ],
 "metadata": {
  "kernelspec": {
   "display_name": "Python 3 (ipykernel)",
   "language": "python",
   "name": "python3"
  },
  "language_info": {
   "codemirror_mode": {
    "name": "ipython",
    "version": 3
   },
   "file_extension": ".py",
   "mimetype": "text/x-python",
   "name": "python",
   "nbconvert_exporter": "python",
   "pygments_lexer": "ipython3",
   "version": "3.11.7"
  }
 },
 "nbformat": 4,
 "nbformat_minor": 5
}
