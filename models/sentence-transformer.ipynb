{
 "cells": [
  {
   "cell_type": "code",
   "execution_count": 1,
   "metadata": {},
   "outputs": [
    {
     "name": "stdout",
     "output_type": "stream",
     "text": [
      "Top 5 Ranked Patent Documents:\n",
      "Rank 1: Sonotube compatible unmanned aerial vehicle and system (Similarity Score: 0.5556)\n"
     ]
    },
    {
     "ename": "IndexError",
     "evalue": "index 1 is out of bounds for axis 0 with size 1",
     "output_type": "error",
     "traceback": [
      "\u001b[1;31m---------------------------------------------------------------------------\u001b[0m",
      "\u001b[1;31mIndexError\u001b[0m                                Traceback (most recent call last)",
      "Cell \u001b[1;32mIn[1], line 39\u001b[0m\n\u001b[0;32m     36\u001b[0m \u001b[38;5;28;01mfor\u001b[39;00m i \u001b[38;5;129;01min\u001b[39;00m \u001b[38;5;28mrange\u001b[39m(num_documents_to_display):\n\u001b[0;32m     37\u001b[0m     \u001b[38;5;66;03m# Check if there are documents available\u001b[39;00m\n\u001b[0;32m     38\u001b[0m     \u001b[38;5;28;01mif\u001b[39;00m \u001b[38;5;28mlen\u001b[39m(ranked_documents_indices) \u001b[38;5;241m>\u001b[39m \u001b[38;5;241m0\u001b[39m:\n\u001b[1;32m---> 39\u001b[0m         document_index \u001b[38;5;241m=\u001b[39m \u001b[43mranked_documents_indices\u001b[49m\u001b[43m[\u001b[49m\u001b[43mi\u001b[49m\u001b[43m]\u001b[49m[\u001b[38;5;241m0\u001b[39m]\n\u001b[0;32m     40\u001b[0m         similarity_score \u001b[38;5;241m=\u001b[39m cosine_scores[document_index][\u001b[38;5;241m0\u001b[39m]\n\u001b[0;32m     41\u001b[0m         \u001b[38;5;28mprint\u001b[39m(\u001b[38;5;124mf\u001b[39m\u001b[38;5;124m\"\u001b[39m\u001b[38;5;124mRank \u001b[39m\u001b[38;5;132;01m{\u001b[39;00mi\u001b[38;5;241m+\u001b[39m\u001b[38;5;241m1\u001b[39m\u001b[38;5;132;01m}\u001b[39;00m\u001b[38;5;124m: \u001b[39m\u001b[38;5;132;01m{\u001b[39;00mpatent_documents[document_index][\u001b[38;5;241m0\u001b[39m]\u001b[38;5;132;01m}\u001b[39;00m\u001b[38;5;124m (Similarity Score: \u001b[39m\u001b[38;5;132;01m{\u001b[39;00msimilarity_score\u001b[38;5;132;01m:\u001b[39;00m\u001b[38;5;124m.4f\u001b[39m\u001b[38;5;132;01m}\u001b[39;00m\u001b[38;5;124m)\u001b[39m\u001b[38;5;124m\"\u001b[39m)\n",
      "\u001b[1;31mIndexError\u001b[0m: index 1 is out of bounds for axis 0 with size 1"
     ]
    }
   ],
   "source": [
    "import pandas as pd\n",
    "from sentence_transformers import SentenceTransformer, util\n",
    "import numpy as np\n",
    "\n",
    "# Load pre-trained Sentence Transformer model\n",
    "model = SentenceTransformer('paraphrase-MiniLM-L6-v2')\n",
    "\n",
    "data = '../data/patsnap_data.xlsx'\n",
    "# Read patent data from Excel file\n",
    "patent_data = pd.read_excel(data, sheet_name='sheet1')\n",
    "\n",
    "# Extract relevant fields (title, abstract, claims) from the patent data\n",
    "patent_documents = patent_data[['Title', 'Abstract', 'Claims']].values.tolist()\n",
    "\n",
    "# Example query\n",
    "query = \"unmanned aerial vehicle with autonomous navigation system\"\n",
    "\n",
    "# Generate embeddings for the query and patent documents\n",
    "query_embedding = model.encode(query)\n",
    "patent_embeddings = model.encode(patent_documents)\n",
    "\n",
    "# Calculate cosine similarity between the query and patent documents\n",
    "cosine_scores = util.pytorch_cos_sim(query_embedding, patent_embeddings)\n",
    "\n",
    "# Convert cosine similarity scores to numpy array for easier manipulation\n",
    "cosine_scores = cosine_scores.numpy()\n",
    "\n",
    "# Rank the patent documents based on similarity scores\n",
    "ranked_documents_indices = np.argsort(-cosine_scores, axis=0)\n",
    "\n",
    "# Define the number of top-ranked documents to display\n",
    "num_documents_to_display = 5\n",
    "\n",
    "# Print ranked patent documents along with their similarity scores\n",
    "print(f\"Top {num_documents_to_display} Ranked Patent Documents:\")\n",
    "for i in range(num_documents_to_display):\n",
    "    # Check if there are documents available\n",
    "    if len(ranked_documents_indices) > 0:\n",
    "        document_index = ranked_documents_indices[i][0]\n",
    "        similarity_score = cosine_scores[document_index][0]\n",
    "        print(f\"Rank {i+1}: {patent_documents[document_index][0]} (Similarity Score: {similarity_score:.4f})\")\n",
    "    else:\n",
    "        print(\"No relevant patent documents found.\")\n"
   ]
  }
 ],
 "metadata": {
  "kernelspec": {
   "display_name": "base",
   "language": "python",
   "name": "python3"
  },
  "language_info": {
   "codemirror_mode": {
    "name": "ipython",
    "version": 3
   },
   "file_extension": ".py",
   "mimetype": "text/x-python",
   "name": "python",
   "nbconvert_exporter": "python",
   "pygments_lexer": "ipython3",
   "version": "3.11.7"
  }
 },
 "nbformat": 4,
 "nbformat_minor": 2
}
