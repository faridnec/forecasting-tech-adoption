{
 "cells": [
  {
   "cell_type": "markdown",
   "metadata": {},
   "source": [
    "# Forecasting Time Series Patents Applications"
   ]
  },
  {
   "cell_type": "markdown",
   "metadata": {},
   "source": [
    "Importing necessary pakages"
   ]
  },
  {
   "cell_type": "code",
   "execution_count": 1,
   "metadata": {},
   "outputs": [],
   "source": [
    "import numpy as np\n",
    "import pandas as pd\n",
    "import matplotlib.pyplot as plt\n",
    "\n",
    "import tensorflow as tf\n",
    "\n",
    "from dataclasses import dataclass"
   ]
  },
  {
   "cell_type": "code",
   "execution_count": null,
   "metadata": {},
   "outputs": [],
   "source": [
    "#Excel\n",
    "path = '../data/processed/cleaned_data.xlsx'\n",
    "\n",
    "df = pd.read_excel(path, sheet_name=\"cleaned_data\")\n",
    "\n",
    "df.tail()"
   ]
  },
  {
   "cell_type": "code",
   "execution_count": 3,
   "metadata": {},
   "outputs": [
    {
     "name": "stderr",
     "output_type": "stream",
     "text": [
      "C:\\Users\\HP\\AppData\\Local\\Temp\\ipykernel_15488\\2130906828.py:3: DtypeWarning: Columns (0,4) have mixed types. Specify dtype option on import or set low_memory=False.\n",
      "  df = pd.read_csv(path, sep='\\t')\n"
     ]
    },
    {
     "data": {
      "text/html": [
       "<div>\n",
       "<style scoped>\n",
       "    .dataframe tbody tr th:only-of-type {\n",
       "        vertical-align: middle;\n",
       "    }\n",
       "\n",
       "    .dataframe tbody tr th {\n",
       "        vertical-align: top;\n",
       "    }\n",
       "\n",
       "    .dataframe thead th {\n",
       "        text-align: right;\n",
       "    }\n",
       "</style>\n",
       "<table border=\"1\" class=\"dataframe\">\n",
       "  <thead>\n",
       "    <tr style=\"text-align: right;\">\n",
       "      <th></th>\n",
       "      <th>patent_id</th>\n",
       "      <th>patent_type</th>\n",
       "      <th>patent_date</th>\n",
       "      <th>patent_title</th>\n",
       "      <th>patent_abstract</th>\n",
       "      <th>wipo_kind</th>\n",
       "      <th>num_claims</th>\n",
       "      <th>withdrawn</th>\n",
       "      <th>filename</th>\n",
       "    </tr>\n",
       "  </thead>\n",
       "  <tbody>\n",
       "    <tr>\n",
       "      <th>8701564</th>\n",
       "      <td>T998013</td>\n",
       "      <td>defensive publication</td>\n",
       "      <td>1980-09-02</td>\n",
       "      <td>Protection of insect pheromones from degradati...</td>\n",
       "      <td>NaN</td>\n",
       "      <td>I4</td>\n",
       "      <td>1</td>\n",
       "      <td>0</td>\n",
       "      <td>pftaps19800902_wk36.zip</td>\n",
       "    </tr>\n",
       "    <tr>\n",
       "      <th>8701565</th>\n",
       "      <td>T998014</td>\n",
       "      <td>defensive publication</td>\n",
       "      <td>1980-09-02</td>\n",
       "      <td>Thiazolyl couplers, coupler compositions and p...</td>\n",
       "      <td>NaN</td>\n",
       "      <td>I4</td>\n",
       "      <td>3</td>\n",
       "      <td>0</td>\n",
       "      <td>pftaps19800902_wk36.zip</td>\n",
       "    </tr>\n",
       "    <tr>\n",
       "      <th>8701566</th>\n",
       "      <td>T999001</td>\n",
       "      <td>defensive publication</td>\n",
       "      <td>1980-10-07</td>\n",
       "      <td>Sack handling device</td>\n",
       "      <td>NaN</td>\n",
       "      <td>I4</td>\n",
       "      <td>1</td>\n",
       "      <td>0</td>\n",
       "      <td>pftaps19801007_wk41.zip</td>\n",
       "    </tr>\n",
       "    <tr>\n",
       "      <th>8701567</th>\n",
       "      <td>T999002</td>\n",
       "      <td>defensive publication</td>\n",
       "      <td>1980-10-07</td>\n",
       "      <td>Application of polymeric powders to a substrate</td>\n",
       "      <td>NaN</td>\n",
       "      <td>I4</td>\n",
       "      <td>7</td>\n",
       "      <td>0</td>\n",
       "      <td>pftaps19801007_wk41.zip</td>\n",
       "    </tr>\n",
       "    <tr>\n",
       "      <th>8701568</th>\n",
       "      <td>T999003</td>\n",
       "      <td>defensive publication</td>\n",
       "      <td>1980-10-07</td>\n",
       "      <td>Shifted photographic dyes and compositions, el...</td>\n",
       "      <td>NaN</td>\n",
       "      <td>I4</td>\n",
       "      <td>3</td>\n",
       "      <td>0</td>\n",
       "      <td>pftaps19801007_wk41.zip</td>\n",
       "    </tr>\n",
       "  </tbody>\n",
       "</table>\n",
       "</div>"
      ],
      "text/plain": [
       "        patent_id            patent_type patent_date  \\\n",
       "8701564   T998013  defensive publication  1980-09-02   \n",
       "8701565   T998014  defensive publication  1980-09-02   \n",
       "8701566   T999001  defensive publication  1980-10-07   \n",
       "8701567   T999002  defensive publication  1980-10-07   \n",
       "8701568   T999003  defensive publication  1980-10-07   \n",
       "\n",
       "                                              patent_title patent_abstract  \\\n",
       "8701564  Protection of insect pheromones from degradati...             NaN   \n",
       "8701565  Thiazolyl couplers, coupler compositions and p...             NaN   \n",
       "8701566                               Sack handling device             NaN   \n",
       "8701567    Application of polymeric powders to a substrate             NaN   \n",
       "8701568  Shifted photographic dyes and compositions, el...             NaN   \n",
       "\n",
       "        wipo_kind  num_claims  withdrawn                 filename  \n",
       "8701564        I4           1          0  pftaps19800902_wk36.zip  \n",
       "8701565        I4           3          0  pftaps19800902_wk36.zip  \n",
       "8701566        I4           1          0  pftaps19801007_wk41.zip  \n",
       "8701567        I4           7          0  pftaps19801007_wk41.zip  \n",
       "8701568        I4           3          0  pftaps19801007_wk41.zip  "
      ]
     },
     "execution_count": 3,
     "metadata": {},
     "output_type": "execute_result"
    }
   ],
   "source": [
    "path = '../data/raw/g_patent.tsv'\n",
    "\n",
    "df = pd.read_csv(path, sep='\\t')\n",
    "\n",
    "df.tail()"
   ]
  },
  {
   "cell_type": "code",
   "execution_count": 4,
   "metadata": {},
   "outputs": [
    {
     "data": {
      "text/plain": [
       "patent_id          object\n",
       "patent_type        object\n",
       "patent_date        object\n",
       "patent_title       object\n",
       "patent_abstract    object\n",
       "wipo_kind          object\n",
       "num_claims          int64\n",
       "withdrawn           int64\n",
       "filename           object\n",
       "dtype: object"
      ]
     },
     "execution_count": 4,
     "metadata": {},
     "output_type": "execute_result"
    }
   ],
   "source": [
    "df.dtypes"
   ]
  },
  {
   "cell_type": "code",
   "execution_count": 5,
   "metadata": {},
   "outputs": [],
   "source": [
    "def plot_series(time, series, format=\"-\", start=0, end=None):\n",
    "    plt.plot(time[start:end], series[start:end], format)\n",
    "    plt.xlabel(\"Time\")\n",
    "    plt.ylabel(\"Applications\")\n",
    "    plt.grid(True)"
   ]
  },
  {
   "cell_type": "code",
   "execution_count": 6,
   "metadata": {},
   "outputs": [],
   "source": [
    "def calculate_application_per_month(data: pd.DataFrame, date_column: str):\n",
    "    \"\"\"\n",
    "    Calculate the cumulative count of patent applications per month.\n",
    "\n",
    "    Parameters:\n",
    "    - data: DataFrame containing the patent application data\n",
    "\n",
    "    Returns:\n",
    "    - DataFrame with the cumulative count of patent applications per month\n",
    "    \"\"\"\n",
    "    # Convert 'FILING_DATE' column to datetime format\n",
    "    data[date_column] = pd.to_datetime(data[date_column])\n",
    "\n",
    "    # Extract year and month from 'FILING_DATE'\n",
    "    data['Time'] = data[date_column].dt.to_period('M')\n",
    "\n",
    "    # Group by year and month, and count the number of applications in each group\n",
    "    applications_per_month = data.groupby('Time').size().reset_index(name='Applications')\n",
    "    # applications_per_month['Cumulative_Count'] = applications_per_month['Applications_Per_Month'].cumsum()\n",
    "    \n",
    "    return applications_per_month"
   ]
  },
  {
   "cell_type": "code",
   "execution_count": 7,
   "metadata": {},
   "outputs": [
    {
     "data": {
      "text/html": [
       "<div>\n",
       "<style scoped>\n",
       "    .dataframe tbody tr th:only-of-type {\n",
       "        vertical-align: middle;\n",
       "    }\n",
       "\n",
       "    .dataframe tbody tr th {\n",
       "        vertical-align: top;\n",
       "    }\n",
       "\n",
       "    .dataframe thead th {\n",
       "        text-align: right;\n",
       "    }\n",
       "</style>\n",
       "<table border=\"1\" class=\"dataframe\">\n",
       "  <thead>\n",
       "    <tr style=\"text-align: right;\">\n",
       "      <th></th>\n",
       "      <th>Time</th>\n",
       "      <th>Applications</th>\n",
       "    </tr>\n",
       "  </thead>\n",
       "  <tbody>\n",
       "    <tr>\n",
       "      <th>0</th>\n",
       "      <td>1976-01</td>\n",
       "      <td>5352</td>\n",
       "    </tr>\n",
       "    <tr>\n",
       "      <th>1</th>\n",
       "      <td>1976-02</td>\n",
       "      <td>5231</td>\n",
       "    </tr>\n",
       "    <tr>\n",
       "      <th>2</th>\n",
       "      <td>1976-03</td>\n",
       "      <td>7123</td>\n",
       "    </tr>\n",
       "    <tr>\n",
       "      <th>3</th>\n",
       "      <td>1976-04</td>\n",
       "      <td>6032</td>\n",
       "    </tr>\n",
       "    <tr>\n",
       "      <th>4</th>\n",
       "      <td>1976-05</td>\n",
       "      <td>5969</td>\n",
       "    </tr>\n",
       "    <tr>\n",
       "      <th>...</th>\n",
       "      <td>...</td>\n",
       "      <td>...</td>\n",
       "    </tr>\n",
       "    <tr>\n",
       "      <th>571</th>\n",
       "      <td>2023-08</td>\n",
       "      <td>35970</td>\n",
       "    </tr>\n",
       "    <tr>\n",
       "      <th>572</th>\n",
       "      <td>2023-09</td>\n",
       "      <td>29219</td>\n",
       "    </tr>\n",
       "    <tr>\n",
       "      <th>573</th>\n",
       "      <td>2023-10</td>\n",
       "      <td>38048</td>\n",
       "    </tr>\n",
       "    <tr>\n",
       "      <th>574</th>\n",
       "      <td>2023-11</td>\n",
       "      <td>29296</td>\n",
       "    </tr>\n",
       "    <tr>\n",
       "      <th>575</th>\n",
       "      <td>2023-12</td>\n",
       "      <td>27230</td>\n",
       "    </tr>\n",
       "  </tbody>\n",
       "</table>\n",
       "<p>576 rows × 2 columns</p>\n",
       "</div>"
      ],
      "text/plain": [
       "        Time  Applications\n",
       "0    1976-01          5352\n",
       "1    1976-02          5231\n",
       "2    1976-03          7123\n",
       "3    1976-04          6032\n",
       "4    1976-05          5969\n",
       "..       ...           ...\n",
       "571  2023-08         35970\n",
       "572  2023-09         29219\n",
       "573  2023-10         38048\n",
       "574  2023-11         29296\n",
       "575  2023-12         27230\n",
       "\n",
       "[576 rows x 2 columns]"
      ]
     },
     "execution_count": 7,
     "metadata": {},
     "output_type": "execute_result"
    }
   ],
   "source": [
    "series = calculate_application_per_month(data=df, date_column='patent_date')\n",
    "\n",
    "series"
   ]
  },
  {
   "cell_type": "code",
   "execution_count": 8,
   "metadata": {},
   "outputs": [],
   "source": [
    "def parse_data_from_dataframe(df):\n",
    "    times = []\n",
    "    applications = []\n",
    "\n",
    "    for i, row in df.iterrows():\n",
    "        times.append(i)\n",
    "        applications.append(float(row['Applications']))\n",
    "\n",
    "    return times, applications"
   ]
  },
  {
   "cell_type": "code",
   "execution_count": 9,
   "metadata": {},
   "outputs": [],
   "source": [
    "@dataclass\n",
    "class G:\n",
    "    TEMPERATURES_CSV = '../data/processed/cleaned_data.xlsx'\n",
    "    times, applications = parse_data_from_dataframe(series)\n",
    "    TIME = np.array(times)\n",
    "    SERIES = np.array(applications)\n",
    "    SPLIT_TIME = 470 # customizeable\n",
    "    WINDOW_SIZE = 32\n",
    "    BATCH_SIZE = 16\n",
    "    SHUFFLE_BUFFER_SIZE = 100"
   ]
  },
  {
   "cell_type": "code",
   "execution_count": 12,
   "metadata": {},
   "outputs": [
    {
     "data": {
      "image/png": "[encoded data removed]",
      "text/plain": [
       "<Figure size 1000x600 with 1 Axes>"
      ]
     },
     "metadata": {},
     "output_type": "display_data"
    }
   ],
   "source": [
    "plt.figure(figsize=(10, 6))\n",
    "plot_series(G.TIME, G.SERIES)\n",
    "plt.show()"
   ]
  },
  {
   "cell_type": "code",
   "execution_count": 13,
   "metadata": {},
   "outputs": [],
   "source": [
    "def train_val_split(time, series, time_step=G.SPLIT_TIME):\n",
    "    time_train = time[:time_step]\n",
    "    series_train = series[:time_step]\n",
    "    time_valid = time[time_step:]\n",
    "    series_valid = series[time_step:]\n",
    "\n",
    "    return time_train, series_train, time_valid, series_valid\n",
    "\n",
    "# Split the dataset\n",
    "time_train, series_train, time_valid, series_valid = train_val_split(G.TIME, G.SERIES)"
   ]
  },
  {
   "cell_type": "code",
   "execution_count": null,
   "metadata": {},
   "outputs": [],
   "source": [
    "def windowed_dataset(series, window_size=G.WINDOW_SIZE, batch_size=G.BATCH_SIZE, shuffle_buffer=G.SHUFFLE_BUFFER_SIZE):\n",
    "    ds = tf.data.Dataset.from_tensor_slices(series)\n",
    "    ds = ds.window(window_size + 1, shift=1, drop_remainder=True)\n",
    "    ds = ds.flat_map(lambda w: w.batch(window_size + 1))\n",
    "    ds = ds.shuffle(shuffle_buffer)\n",
    "    ds = ds.map(lambda w: (w[:-1], w[-1]))\n",
    "    ds = ds.batch(batch_size).prefetch(1)\n",
    "    return ds\n",
    "\n",
    "\n",
    "# Apply the transformation to the training set\n",
    "train_set = windowed_dataset(series_train, window_size=G.WINDOW_SIZE, batch_size=G.BATCH_SIZE, shuffle_buffer=G.SHUFFLE_BUFFER_SIZE)"
   ]
  },
  {
   "cell_type": "markdown",
   "metadata": {},
   "source": [
    "## Defining Model Architecture"
   ]
  },
  {
   "cell_type": "code",
   "execution_count": null,
   "metadata": {},
   "outputs": [],
   "source": [
    "def create_model():\n",
    "    \n",
    "    model = tf.keras.models.Sequential([\n",
    "        tf.keras.layers.Conv1D(filters=16, kernel_size=3, strides=1, activation='relu', padding='causal', input_shape = [G.WINDOW_SIZE,1]),\n",
    "        tf.keras.layers.LSTM(16, return_sequences=True),\n",
    "        tf.keras.layers.LSTM(16),\n",
    "        tf.keras.layers.Dense(30, activation='relu'),\n",
    "        tf.keras.layers.Dense(1)\n",
    "    ])\n",
    "    \n",
    "    return model"
   ]
  },
  {
   "cell_type": "markdown",
   "metadata": {},
   "source": [
    "## Adjusting Learning Rate"
   ]
  },
  {
   "cell_type": "code",
   "execution_count": null,
   "metadata": {},
   "outputs": [],
   "source": [
    "def adjust_learning_rate(dataset):\n",
    "    \n",
    "    model = create_model()\n",
    "    \n",
    "    lr_schedule = tf.keras.callbacks.LearningRateScheduler(lambda epoch: 1e-4 * 10**(epoch /20))\n",
    "    \n",
    "    optimizer = tf.keras.optimizers.SGD(momentum=0.9)\n",
    "    \n",
    "    model.compile(loss=tf.keras.losses.Huber(),\n",
    "                  optimizer=optimizer,\n",
    "                  metrics=[\"mae\"])\n",
    "    \n",
    "    history = model.fit(dataset, epochs=100, callbacks=[lr_schedule])\n",
    "    \n",
    "    return history"
   ]
  },
  {
   "cell_type": "code",
   "execution_count": null,
   "metadata": {},
   "outputs": [],
   "source": [
    "lr_history = adjust_learning_rate(train_set)"
   ]
  }
 ],
 "metadata": {
  "kernelspec": {
   "display_name": "base",
   "language": "python",
   "name": "python3"
  },
  "language_info": {
   "codemirror_mode": {
    "name": "ipython",
    "version": 3
   },
   "file_extension": ".py",
   "mimetype": "text/x-python",
   "name": "python",
   "nbconvert_exporter": "python",
   "pygments_lexer": "ipython3",
   "version": "3.11.7"
  }
 },
 "nbformat": 4,
 "nbformat_minor": 2
}
