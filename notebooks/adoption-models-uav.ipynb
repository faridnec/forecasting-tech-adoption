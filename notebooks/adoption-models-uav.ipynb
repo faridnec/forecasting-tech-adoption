{
 "cells": [
  {
   "cell_type": "markdown",
   "metadata": {},
   "source": [
    "# Innovation Models for UAV technology\n",
    "\n",
    "S Curve, BASS Diffusion Model, Pearl, Gompertz, and Logistic Model are exemplary models used in modeling the technology adoption process in technology management. "
   ]
  },
  {
   "cell_type": "code",
   "execution_count": 1,
   "metadata": {},
   "outputs": [],
   "source": [
    "import utils \n",
    "\n",
    "import pandas as pd\n",
    "import numpy as np\n",
    "import matplotlib.pyplot as plt"
   ]
  },
  {
   "cell_type": "code",
   "execution_count": 2,
   "metadata": {},
   "outputs": [
    {
     "data": {
      "text/html": [
       "<div>\n",
       "<style scoped>\n",
       "    .dataframe tbody tr th:only-of-type {\n",
       "        vertical-align: middle;\n",
       "    }\n",
       "\n",
       "    .dataframe tbody tr th {\n",
       "        vertical-align: top;\n",
       "    }\n",
       "\n",
       "    .dataframe thead th {\n",
       "        text-align: right;\n",
       "    }\n",
       "</style>\n",
       "<table border=\"1\" class=\"dataframe\">\n",
       "  <thead>\n",
       "    <tr style=\"text-align: right;\">\n",
       "      <th></th>\n",
       "      <th>title</th>\n",
       "      <th>cpc_i</th>\n",
       "      <th>asignee</th>\n",
       "      <th>filing_date</th>\n",
       "      <th>patent_no</th>\n",
       "      <th>relevancy</th>\n",
       "      <th>category</th>\n",
       "    </tr>\n",
       "  </thead>\n",
       "  <tbody>\n",
       "    <tr>\n",
       "      <th>0</th>\n",
       "      <td>UNMANNED AERIAL VEHICLE</td>\n",
       "      <td>B64C27/08;B64C39/024;B64C27/16;B64U30/296;B64U...</td>\n",
       "      <td>Unknown</td>\n",
       "      <td>2018-12-27</td>\n",
       "      <td>20210214075</td>\n",
       "      <td>73.887054</td>\n",
       "      <td>Aviation</td>\n",
       "    </tr>\n",
       "    <tr>\n",
       "      <th>1</th>\n",
       "      <td>LOGISTICS SYSTEM, UNMANNED AERIAL VEHICLE, AND...</td>\n",
       "      <td>B65G1/1373;B64C39/024;G05D1/104;B64D1/22;G06K7...</td>\n",
       "      <td>Unknown</td>\n",
       "      <td>2018-12-27</td>\n",
       "      <td>20220076192</td>\n",
       "      <td>64.447464</td>\n",
       "      <td>Aviation</td>\n",
       "    </tr>\n",
       "    <tr>\n",
       "      <th>2</th>\n",
       "      <td>UNMANNED AERIAL VEHICLE CONTROL SYSTEM, UNMANN...</td>\n",
       "      <td>G08G5/045;B64F1/36;G05D1/0653;G08G5/0013;G08G5...</td>\n",
       "      <td>Rakuten, Inc.</td>\n",
       "      <td>2018-12-25</td>\n",
       "      <td>20210209954</td>\n",
       "      <td>68.020300</td>\n",
       "      <td>Aviation</td>\n",
       "    </tr>\n",
       "    <tr>\n",
       "      <th>3</th>\n",
       "      <td>SYSTEMS, METHODS, AND DEVICES FOR ITEM DELIVER...</td>\n",
       "      <td>G05D1/102;G06Q20/065;G06Q20/322;H04L9/3213;G06...</td>\n",
       "      <td>Ford Global Technologies, LLC</td>\n",
       "      <td>2018-12-21</td>\n",
       "      <td>20200202284</td>\n",
       "      <td>63.734207</td>\n",
       "      <td>Aviation</td>\n",
       "    </tr>\n",
       "    <tr>\n",
       "      <th>4</th>\n",
       "      <td>SYSTEM FOR AUTONOMOUS UNMANNED AERIAL VEHICLE ...</td>\n",
       "      <td>B64C39/024;G08G5/045;G08G5/0052;G08G5/0043;G08...</td>\n",
       "      <td>Unknown</td>\n",
       "      <td>2018-12-20</td>\n",
       "      <td>20200202729</td>\n",
       "      <td>66.288730</td>\n",
       "      <td>Aviation</td>\n",
       "    </tr>\n",
       "    <tr>\n",
       "      <th>...</th>\n",
       "      <td>...</td>\n",
       "      <td>...</td>\n",
       "      <td>...</td>\n",
       "      <td>...</td>\n",
       "      <td>...</td>\n",
       "      <td>...</td>\n",
       "      <td>...</td>\n",
       "    </tr>\n",
       "    <tr>\n",
       "      <th>1301</th>\n",
       "      <td>Unmanned aerial vehicle</td>\n",
       "      <td>Unknown</td>\n",
       "      <td>Aerovision Vehiculos Aeros, S.L.</td>\n",
       "      <td>2006-06-12</td>\n",
       "      <td>D573939</td>\n",
       "      <td>72.343630</td>\n",
       "      <td>Aviation</td>\n",
       "    </tr>\n",
       "    <tr>\n",
       "      <th>1302</th>\n",
       "      <td>Self-Contained Avionics Sensing And Flight Con...</td>\n",
       "      <td>G05D1/101</td>\n",
       "      <td>United States of America as represented by the...</td>\n",
       "      <td>2006-06-08</td>\n",
       "      <td>20070069083</td>\n",
       "      <td>62.483673</td>\n",
       "      <td>Aviation</td>\n",
       "    </tr>\n",
       "    <tr>\n",
       "      <th>1303</th>\n",
       "      <td>Relative navigation for aerial refueling of an...</td>\n",
       "      <td>G01S19/40;B64U80/25;G01S19/42;G05D1/104;B64D39...</td>\n",
       "      <td>Honeywell International Inc.</td>\n",
       "      <td>2006-05-15</td>\n",
       "      <td>20090326736</td>\n",
       "      <td>68.210840</td>\n",
       "      <td>Aviation</td>\n",
       "    </tr>\n",
       "    <tr>\n",
       "      <th>1304</th>\n",
       "      <td>METHOD AND SYSTEM FOR AUTONOMOUS TRACKING OF A...</td>\n",
       "      <td>G01S3/7864;G01S13/723;G05D1/0094</td>\n",
       "      <td>Honeywell International Inc.</td>\n",
       "      <td>2006-04-25</td>\n",
       "      <td>20070250260</td>\n",
       "      <td>64.014730</td>\n",
       "      <td>Aviation</td>\n",
       "    </tr>\n",
       "    <tr>\n",
       "      <th>1305</th>\n",
       "      <td>Unmanned aerial vehicle with electrically powe...</td>\n",
       "      <td>B64C39/024;B64C27/20;B64U30/26;B64U30/29</td>\n",
       "      <td>Lockheed Martin Corporation</td>\n",
       "      <td>2006-02-10</td>\n",
       "      <td>7712701</td>\n",
       "      <td>63.863304</td>\n",
       "      <td>Aviation</td>\n",
       "    </tr>\n",
       "  </tbody>\n",
       "</table>\n",
       "<p>1306 rows × 7 columns</p>\n",
       "</div>"
      ],
      "text/plain": [
       "                                                  title  \\\n",
       "0                               UNMANNED AERIAL VEHICLE   \n",
       "1     LOGISTICS SYSTEM, UNMANNED AERIAL VEHICLE, AND...   \n",
       "2     UNMANNED AERIAL VEHICLE CONTROL SYSTEM, UNMANN...   \n",
       "3     SYSTEMS, METHODS, AND DEVICES FOR ITEM DELIVER...   \n",
       "4     SYSTEM FOR AUTONOMOUS UNMANNED AERIAL VEHICLE ...   \n",
       "...                                                 ...   \n",
       "1301                            Unmanned aerial vehicle   \n",
       "1302  Self-Contained Avionics Sensing And Flight Con...   \n",
       "1303  Relative navigation for aerial refueling of an...   \n",
       "1304  METHOD AND SYSTEM FOR AUTONOMOUS TRACKING OF A...   \n",
       "1305  Unmanned aerial vehicle with electrically powe...   \n",
       "\n",
       "                                                  cpc_i  \\\n",
       "0     B64C27/08;B64C39/024;B64C27/16;B64U30/296;B64U...   \n",
       "1     B65G1/1373;B64C39/024;G05D1/104;B64D1/22;G06K7...   \n",
       "2     G08G5/045;B64F1/36;G05D1/0653;G08G5/0013;G08G5...   \n",
       "3     G05D1/102;G06Q20/065;G06Q20/322;H04L9/3213;G06...   \n",
       "4     B64C39/024;G08G5/045;G08G5/0052;G08G5/0043;G08...   \n",
       "...                                                 ...   \n",
       "1301                                            Unknown   \n",
       "1302                                          G05D1/101   \n",
       "1303  G01S19/40;B64U80/25;G01S19/42;G05D1/104;B64D39...   \n",
       "1304                   G01S3/7864;G01S13/723;G05D1/0094   \n",
       "1305           B64C39/024;B64C27/20;B64U30/26;B64U30/29   \n",
       "\n",
       "                                                asignee filing_date  \\\n",
       "0                                               Unknown  2018-12-27   \n",
       "1                                               Unknown  2018-12-27   \n",
       "2                                         Rakuten, Inc.  2018-12-25   \n",
       "3                         Ford Global Technologies, LLC  2018-12-21   \n",
       "4                                               Unknown  2018-12-20   \n",
       "...                                                 ...         ...   \n",
       "1301                   Aerovision Vehiculos Aeros, S.L.  2006-06-12   \n",
       "1302  United States of America as represented by the...  2006-06-08   \n",
       "1303                       Honeywell International Inc.  2006-05-15   \n",
       "1304                       Honeywell International Inc.  2006-04-25   \n",
       "1305                        Lockheed Martin Corporation  2006-02-10   \n",
       "\n",
       "        patent_no  relevancy  category  \n",
       "0     20210214075  73.887054  Aviation  \n",
       "1     20220076192  64.447464  Aviation  \n",
       "2     20210209954  68.020300  Aviation  \n",
       "3     20200202284  63.734207  Aviation  \n",
       "4     20200202729  66.288730  Aviation  \n",
       "...           ...        ...       ...  \n",
       "1301      D573939  72.343630  Aviation  \n",
       "1302  20070069083  62.483673  Aviation  \n",
       "1303  20090326736  68.210840  Aviation  \n",
       "1304  20070250260  64.014730  Aviation  \n",
       "1305      7712701  63.863304  Aviation  \n",
       "\n",
       "[1306 rows x 7 columns]"
      ]
     },
     "execution_count": 2,
     "metadata": {},
     "output_type": "execute_result"
    }
   ],
   "source": [
    "uav_df = pd.read_csv('../data/processed/uav.csv')\n",
    "\n",
    "uav_df"
   ]
  },
  {
   "cell_type": "markdown",
   "metadata": {},
   "source": [
    "Checking types of each feature"
   ]
  },
  {
   "cell_type": "code",
   "execution_count": 3,
   "metadata": {},
   "outputs": [
    {
     "data": {
      "text/plain": [
       "title           object\n",
       "cpc_i           object\n",
       "asignee         object\n",
       "filing_date     object\n",
       "patent_no       object\n",
       "relevancy      float64\n",
       "category        object\n",
       "dtype: object"
      ]
     },
     "execution_count": 3,
     "metadata": {},
     "output_type": "execute_result"
    }
   ],
   "source": [
    "uav_df.dtypes"
   ]
  },
  {
   "cell_type": "markdown",
   "metadata": {},
   "source": [
    "Convert `filing_date` column to datetime format"
   ]
  },
  {
   "cell_type": "code",
   "execution_count": 4,
   "metadata": {},
   "outputs": [],
   "source": [
    "uav_df['filing_date'] = pd.to_datetime(uav_df['filing_date'])"
   ]
  },
  {
   "cell_type": "markdown",
   "metadata": {},
   "source": [
    "Calculate the number of applications per `year`"
   ]
  },
  {
   "cell_type": "code",
   "execution_count": 5,
   "metadata": {},
   "outputs": [],
   "source": [
    "applications_per_year = uav_df.groupby(uav_df['filing_date'].dt.year)['patent_no'].count()"
   ]
  },
  {
   "cell_type": "markdown",
   "metadata": {},
   "source": [
    "Calculate the `cumulative count` of applications per year"
   ]
  },
  {
   "cell_type": "code",
   "execution_count": 6,
   "metadata": {},
   "outputs": [],
   "source": [
    "cumulative_applications_per_year = applications_per_year.cumsum()"
   ]
  },
  {
   "cell_type": "markdown",
   "metadata": {},
   "source": [
    "Create a new DataFrame to form S Curve"
   ]
  },
  {
   "cell_type": "code",
   "execution_count": 7,
   "metadata": {},
   "outputs": [],
   "source": [
    "# Create a DataFrame from the Series\n",
    "df = pd.DataFrame({\n",
    "    'Year': applications_per_year.index,\n",
    "    'Applications_Per_Year': applications_per_year.values,\n",
    "    'Cumulative_Count': cumulative_applications_per_year.values\n",
    "})"
   ]
  },
  {
   "cell_type": "code",
   "execution_count": 8,
   "metadata": {},
   "outputs": [
    {
     "data": {
      "text/html": [
       "<div>\n",
       "<style scoped>\n",
       "    .dataframe tbody tr th:only-of-type {\n",
       "        vertical-align: middle;\n",
       "    }\n",
       "\n",
       "    .dataframe tbody tr th {\n",
       "        vertical-align: top;\n",
       "    }\n",
       "\n",
       "    .dataframe thead th {\n",
       "        text-align: right;\n",
       "    }\n",
       "</style>\n",
       "<table border=\"1\" class=\"dataframe\">\n",
       "  <thead>\n",
       "    <tr style=\"text-align: right;\">\n",
       "      <th></th>\n",
       "      <th>Year</th>\n",
       "      <th>Applications_Per_Year</th>\n",
       "      <th>Cumulative_Count</th>\n",
       "    </tr>\n",
       "  </thead>\n",
       "  <tbody>\n",
       "    <tr>\n",
       "      <th>0</th>\n",
       "      <td>2006</td>\n",
       "      <td>9</td>\n",
       "      <td>9</td>\n",
       "    </tr>\n",
       "    <tr>\n",
       "      <th>1</th>\n",
       "      <td>2007</td>\n",
       "      <td>12</td>\n",
       "      <td>21</td>\n",
       "    </tr>\n",
       "    <tr>\n",
       "      <th>2</th>\n",
       "      <td>2008</td>\n",
       "      <td>19</td>\n",
       "      <td>40</td>\n",
       "    </tr>\n",
       "    <tr>\n",
       "      <th>3</th>\n",
       "      <td>2009</td>\n",
       "      <td>15</td>\n",
       "      <td>55</td>\n",
       "    </tr>\n",
       "    <tr>\n",
       "      <th>4</th>\n",
       "      <td>2010</td>\n",
       "      <td>19</td>\n",
       "      <td>74</td>\n",
       "    </tr>\n",
       "    <tr>\n",
       "      <th>5</th>\n",
       "      <td>2011</td>\n",
       "      <td>18</td>\n",
       "      <td>92</td>\n",
       "    </tr>\n",
       "    <tr>\n",
       "      <th>6</th>\n",
       "      <td>2012</td>\n",
       "      <td>17</td>\n",
       "      <td>109</td>\n",
       "    </tr>\n",
       "    <tr>\n",
       "      <th>7</th>\n",
       "      <td>2013</td>\n",
       "      <td>25</td>\n",
       "      <td>134</td>\n",
       "    </tr>\n",
       "    <tr>\n",
       "      <th>8</th>\n",
       "      <td>2014</td>\n",
       "      <td>83</td>\n",
       "      <td>217</td>\n",
       "    </tr>\n",
       "    <tr>\n",
       "      <th>9</th>\n",
       "      <td>2015</td>\n",
       "      <td>166</td>\n",
       "      <td>383</td>\n",
       "    </tr>\n",
       "    <tr>\n",
       "      <th>10</th>\n",
       "      <td>2016</td>\n",
       "      <td>313</td>\n",
       "      <td>696</td>\n",
       "    </tr>\n",
       "    <tr>\n",
       "      <th>11</th>\n",
       "      <td>2017</td>\n",
       "      <td>327</td>\n",
       "      <td>1023</td>\n",
       "    </tr>\n",
       "    <tr>\n",
       "      <th>12</th>\n",
       "      <td>2018</td>\n",
       "      <td>283</td>\n",
       "      <td>1306</td>\n",
       "    </tr>\n",
       "  </tbody>\n",
       "</table>\n",
       "</div>"
      ],
      "text/plain": [
       "    Year  Applications_Per_Year  Cumulative_Count\n",
       "0   2006                      9                 9\n",
       "1   2007                     12                21\n",
       "2   2008                     19                40\n",
       "3   2009                     15                55\n",
       "4   2010                     19                74\n",
       "5   2011                     18                92\n",
       "6   2012                     17               109\n",
       "7   2013                     25               134\n",
       "8   2014                     83               217\n",
       "9   2015                    166               383\n",
       "10  2016                    313               696\n",
       "11  2017                    327              1023\n",
       "12  2018                    283              1306"
      ]
     },
     "execution_count": 8,
     "metadata": {},
     "output_type": "execute_result"
    }
   ],
   "source": [
    "df"
   ]
  },
  {
   "cell_type": "markdown",
   "metadata": {},
   "source": [
    "Plotting S-curve for UAV patent applications"
   ]
  },
  {
   "cell_type": "code",
   "execution_count": 9,
   "metadata": {},
   "outputs": [
    {
     "data": {
      "image/png": "[encoded data removed]",
      "text/plain": [
       "<Figure size 1000x600 with 1 Axes>"
      ]
     },
     "metadata": {},
     "output_type": "display_data"
    }
   ],
   "source": [
    "\n",
    "def plot_s_curve(data, year_col, count_col, title):\n",
    "    \"\"\"\n",
    "    Plot the S-curve for cumulative count of patent applications over years.\n",
    "\n",
    "    Parameters:\n",
    "    - data: DataFrame containing the data\n",
    "    - year_col: Name of the column containing the years\n",
    "    - count_col: Name of the column containing the cumulative count\n",
    "    - title: Title of the plot\n",
    "    \"\"\"\n",
    "    plt.figure(figsize=(10, 6))\n",
    "    plt.plot(data[year_col], data[count_col], marker='o', linestyle='-')\n",
    "    plt.title(title)\n",
    "    plt.xlabel('Year')\n",
    "    plt.ylabel('Cumulative Patent Applications')\n",
    "    plt.grid(True)\n",
    "    plt.show()\n",
    "\n",
    "s_curve = plot_s_curve(df, 'Year', 'Cumulative_Count', 'S Curve of UAV Patent Applications')\n",
    "\n",
    "s_curve"
   ]
  },
  {
   "cell_type": "markdown",
   "metadata": {},
   "source": [
    "Plot the logistic curve"
   ]
  },
  {
   "cell_type": "code",
   "execution_count": 10,
   "metadata": {},
   "outputs": [
    {
     "data": {
      "image/png": "[encoded data removed]",
      "text/plain": [
       "<Figure size 1000x600 with 1 Axes>"
      ]
     },
     "metadata": {},
     "output_type": "display_data"
    }
   ],
   "source": [
    "from scipy.optimize import curve_fit\n",
    "\n",
    "def logistic_growth_function(t, L, k, t0):\n",
    "    \"\"\"\n",
    "    Logistic growth function.\n",
    "\n",
    "    Parameters:\n",
    "    - t: Time variable\n",
    "    - L: Carrying capacity\n",
    "    - k: Growth rate\n",
    "    - t0: Midpoint of growth\n",
    "\n",
    "    Returns:\n",
    "    - Value of the logistic growth function at time t\n",
    "    \"\"\"\n",
    "    return L / (1 + np.exp(-k * (t - t0)))\n",
    "\n",
    "def plot_model_curve(df, model_func, model_name):\n",
    "    \"\"\"\n",
    "    Plot the model curve for the given DataFrame using the specified model function.\n",
    "\n",
    "    Parameters:\n",
    "    - df: DataFrame containing the data\n",
    "    - model_func: Function representing the model\n",
    "    - model_name: Name of the model for labeling the plot\n",
    "    \"\"\"\n",
    "    # Provide initial guesses for the parameters\n",
    "    initial_guess = [max(df['Cumulative_Count']), 0.1, np.median(df['Year'])]\n",
    "\n",
    "    # Fit the model function to the cumulative count of patent applications per year\n",
    "    popt, pcov = curve_fit(model_func, df['Year'], df['Cumulative_Count'], p0=initial_guess)\n",
    "\n",
    "    # Generate points for the model curve\n",
    "    x_values = np.linspace(min(df['Year']), max(df['Year']), 100)\n",
    "    y_values = model_func(x_values, *popt)\n",
    "\n",
    "    # Plot the model curve\n",
    "    plt.figure(figsize=(10, 6))\n",
    "    plt.scatter(df['Year'], df['Cumulative_Count'], color='blue', label='Data')\n",
    "    plt.plot(x_values, y_values, color='red', label=model_name)\n",
    "    plt.title(model_name)\n",
    "    plt.xlabel('Year')\n",
    "    plt.ylabel('Cumulative Count of Patent Applications')\n",
    "    plt.legend()\n",
    "    plt.grid(True)\n",
    "    plt.show()\n",
    "    \n",
    "\n",
    "# Plotting logistic growth model for UAV patent applications\n",
    "plot_model_curve(df, utils.logistic_curve, 'Logistic Growth Model of UAV Patent Applications')"
   ]
  }
 ],
 "metadata": {
  "kernelspec": {
   "display_name": "base",
   "language": "python",
   "name": "python3"
  },
  "language_info": {
   "codemirror_mode": {
    "name": "ipython",
    "version": 3
   },
   "file_extension": ".py",
   "mimetype": "text/x-python",
   "name": "python",
   "nbconvert_exporter": "python",
   "pygments_lexer": "ipython3",
   "version": "3.11.7"
  }
 },
 "nbformat": 4,
 "nbformat_minor": 2
}
