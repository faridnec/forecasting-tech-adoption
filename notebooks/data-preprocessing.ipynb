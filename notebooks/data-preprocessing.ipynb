{
 "cells": [
  {
   "cell_type": "markdown",
   "metadata": {},
   "source": [
    "# Data Preprocessing\n",
    "\n",
    "Performing some fundamental data wrangling that, together, form the pre-processing phase of data analysis (convert data from an initial format to a format that may be better for analysis). These steps include handling missing values in data, formatting data to standardize it and make it consistent and converting categorical variables into numerical quantitative variables."
   ]
  },
  {
   "cell_type": "code",
   "execution_count": 1,
   "metadata": {},
   "outputs": [],
   "source": [
    "import pandas as pd\n",
    "import numpy as np"
   ]
  },
  {
   "cell_type": "code",
   "execution_count": 2,
   "metadata": {},
   "outputs": [],
   "source": [
    "file_path = \"../data/raw/data.xlsx\""
   ]
  },
  {
   "cell_type": "code",
   "execution_count": 3,
   "metadata": {},
   "outputs": [
    {
     "data": {
      "text/html": [
       "<div>\n",
       "<style scoped>\n",
       "    .dataframe tbody tr th:only-of-type {\n",
       "        vertical-align: middle;\n",
       "    }\n",
       "\n",
       "    .dataframe tbody tr th {\n",
       "        vertical-align: top;\n",
       "    }\n",
       "\n",
       "    .dataframe thead th {\n",
       "        text-align: right;\n",
       "    }\n",
       "</style>\n",
       "<table border=\"1\" class=\"dataframe\">\n",
       "  <thead>\n",
       "    <tr style=\"text-align: right;\">\n",
       "      <th></th>\n",
       "      <th>TITLE</th>\n",
       "      <th>CPC</th>\n",
       "      <th>ASIGNEE</th>\n",
       "      <th>FILING_DATE</th>\n",
       "      <th>PATENT_NO</th>\n",
       "      <th>RELEVANCY</th>\n",
       "      <th>PRODUCT</th>\n",
       "      <th>CATEGORY</th>\n",
       "      <th>SUB_CATEGORY</th>\n",
       "      <th>TAXONOMY_SSTT</th>\n",
       "    </tr>\n",
       "  </thead>\n",
       "  <tbody>\n",
       "    <tr>\n",
       "      <th>0</th>\n",
       "      <td>Systems and methods for structure discovery an...</td>\n",
       "      <td>G06F40/289;G06F40/40;G06F16/33;G06F40/279;G06F...</td>\n",
       "      <td>Casetext, Inc.</td>\n",
       "      <td>2023-06-29</td>\n",
       "      <td>11861321</td>\n",
       "      <td>69.637240</td>\n",
       "      <td>NaN</td>\n",
       "      <td>Artificial Intelligence</td>\n",
       "      <td>Information and Signal Processing Technologies</td>\n",
       "      <td>A09</td>\n",
       "    </tr>\n",
       "    <tr>\n",
       "      <th>1</th>\n",
       "      <td>FREQUENCY SEPARATOR, OPTICAL QUANTIZATION CIRC...</td>\n",
       "      <td>G02F1/01;G02F2/006;G02F7/00</td>\n",
       "      <td>Mitsubishi Electric Corporation</td>\n",
       "      <td>2023-06-27</td>\n",
       "      <td>20230350269</td>\n",
       "      <td>46.685993</td>\n",
       "      <td>NaN</td>\n",
       "      <td>Artificial Intelligence</td>\n",
       "      <td>Information and Signal Processing Technologies</td>\n",
       "      <td>A09</td>\n",
       "    </tr>\n",
       "    <tr>\n",
       "      <th>2</th>\n",
       "      <td>MEDICAL STRUCTURED REPORTING WORKFLOW ASSISTED...</td>\n",
       "      <td>G06F40/174;G06N20/00;G16H50/20;G16H10/60;G16H1...</td>\n",
       "      <td>Ebit srl</td>\n",
       "      <td>2023-06-27</td>\n",
       "      <td>20240006039</td>\n",
       "      <td>71.258710</td>\n",
       "      <td>NaN</td>\n",
       "      <td>Artificial Intelligence</td>\n",
       "      <td>Information and Signal Processing Technologies</td>\n",
       "      <td>A09</td>\n",
       "    </tr>\n",
       "    <tr>\n",
       "      <th>3</th>\n",
       "      <td>SYSTEMS, METHODS, AND APPARATUSES FOR GENERATI...</td>\n",
       "      <td>G06F40/30;G06F16/34;G06F40/279;G06F21/6254;G06...</td>\n",
       "      <td>Premier Healthcare Solutions, Inc.</td>\n",
       "      <td>2023-06-23</td>\n",
       "      <td>20230418981</td>\n",
       "      <td>61.538550</td>\n",
       "      <td>NaN</td>\n",
       "      <td>Artificial Intelligence</td>\n",
       "      <td>Information and Signal Processing Technologies</td>\n",
       "      <td>A09</td>\n",
       "    </tr>\n",
       "    <tr>\n",
       "      <th>4</th>\n",
       "      <td>NATURAL LANGUAGE PROCESSING FOR BLOCKCHAIN-BAS...</td>\n",
       "      <td>G06F16/289;G06F16/283;G06F16/24573;G06F16/27</td>\n",
       "      <td>NaN</td>\n",
       "      <td>2023-06-09</td>\n",
       "      <td>20230409604</td>\n",
       "      <td>68.528656</td>\n",
       "      <td>NaN</td>\n",
       "      <td>Artificial Intelligence</td>\n",
       "      <td>Information and Signal Processing Technologies</td>\n",
       "      <td>A09</td>\n",
       "    </tr>\n",
       "  </tbody>\n",
       "</table>\n",
       "</div>"
      ],
      "text/plain": [
       "                                               TITLE  \\\n",
       "0  Systems and methods for structure discovery an...   \n",
       "1  FREQUENCY SEPARATOR, OPTICAL QUANTIZATION CIRC...   \n",
       "2  MEDICAL STRUCTURED REPORTING WORKFLOW ASSISTED...   \n",
       "3  SYSTEMS, METHODS, AND APPARATUSES FOR GENERATI...   \n",
       "4  NATURAL LANGUAGE PROCESSING FOR BLOCKCHAIN-BAS...   \n",
       "\n",
       "                                                 CPC  \\\n",
       "0  G06F40/289;G06F40/40;G06F16/33;G06F40/279;G06F...   \n",
       "1                        G02F1/01;G02F2/006;G02F7/00   \n",
       "2  G06F40/174;G06N20/00;G16H50/20;G16H10/60;G16H1...   \n",
       "3  G06F40/30;G06F16/34;G06F40/279;G06F21/6254;G06...   \n",
       "4       G06F16/289;G06F16/283;G06F16/24573;G06F16/27   \n",
       "\n",
       "                              ASIGNEE FILING_DATE    PATENT_NO  RELEVANCY  \\\n",
       "0                      Casetext, Inc.  2023-06-29     11861321  69.637240   \n",
       "1     Mitsubishi Electric Corporation  2023-06-27  20230350269  46.685993   \n",
       "2                            Ebit srl  2023-06-27  20240006039  71.258710   \n",
       "3  Premier Healthcare Solutions, Inc.  2023-06-23  20230418981  61.538550   \n",
       "4                                 NaN  2023-06-09  20230409604  68.528656   \n",
       "\n",
       "   PRODUCT                 CATEGORY  \\\n",
       "0      NaN  Artificial Intelligence   \n",
       "1      NaN  Artificial Intelligence   \n",
       "2      NaN  Artificial Intelligence   \n",
       "3      NaN  Artificial Intelligence   \n",
       "4      NaN  Artificial Intelligence   \n",
       "\n",
       "                                     SUB_CATEGORY TAXONOMY_SSTT  \n",
       "0  Information and Signal Processing Technologies           A09  \n",
       "1  Information and Signal Processing Technologies           A09  \n",
       "2  Information and Signal Processing Technologies           A09  \n",
       "3  Information and Signal Processing Technologies           A09  \n",
       "4  Information and Signal Processing Technologies           A09  "
      ]
     },
     "execution_count": 3,
     "metadata": {},
     "output_type": "execute_result"
    }
   ],
   "source": [
    "df = pd.read_excel(file_path, sheet_name=\"INTEGRATED_DB\")\n",
    "df.head()"
   ]
  },
  {
   "cell_type": "markdown",
   "metadata": {},
   "source": [
    "## Checking Data Types\n",
    "\n",
    "Purpose:\n",
    "1. Potential info and type mismatch\n",
    "2. Compatibility with Python methods"
   ]
  },
  {
   "cell_type": "code",
   "execution_count": 4,
   "metadata": {},
   "outputs": [
    {
     "data": {
      "text/plain": [
       "TITLE                    object\n",
       "CPC                      object\n",
       "ASIGNEE                  object\n",
       "FILING_DATE      datetime64[ns]\n",
       "PATENT_NO                object\n",
       "RELEVANCY               float64\n",
       "PRODUCT                 float64\n",
       "CATEGORY                 object\n",
       "SUB_CATEGORY             object\n",
       "TAXONOMY_SSTT            object\n",
       "dtype: object"
      ]
     },
     "execution_count": 4,
     "metadata": {},
     "output_type": "execute_result"
    }
   ],
   "source": [
    "df.dtypes"
   ]
  },
  {
   "cell_type": "markdown",
   "metadata": {},
   "source": [
    "The datatypes seems reasonable"
   ]
  },
  {
   "cell_type": "markdown",
   "metadata": {},
   "source": [
    "## Data Cleaning"
   ]
  },
  {
   "cell_type": "markdown",
   "metadata": {},
   "source": [
    "Check duplicates"
   ]
  },
  {
   "cell_type": "code",
   "execution_count": 5,
   "metadata": {},
   "outputs": [
    {
     "data": {
      "text/plain": [
       "0"
      ]
     },
     "execution_count": 5,
     "metadata": {},
     "output_type": "execute_result"
    }
   ],
   "source": [
    "duplicate_count = df.duplicated().sum()\n",
    "\n",
    "duplicate_count"
   ]
  },
  {
   "cell_type": "markdown",
   "metadata": {},
   "source": [
    "Formatting Topic/Title and Category"
   ]
  },
  {
   "cell_type": "code",
   "execution_count": 6,
   "metadata": {},
   "outputs": [
    {
     "data": {
      "text/html": [
       "<div>\n",
       "<style scoped>\n",
       "    .dataframe tbody tr th:only-of-type {\n",
       "        vertical-align: middle;\n",
       "    }\n",
       "\n",
       "    .dataframe tbody tr th {\n",
       "        vertical-align: top;\n",
       "    }\n",
       "\n",
       "    .dataframe thead th {\n",
       "        text-align: right;\n",
       "    }\n",
       "</style>\n",
       "<table border=\"1\" class=\"dataframe\">\n",
       "  <thead>\n",
       "    <tr style=\"text-align: right;\">\n",
       "      <th></th>\n",
       "      <th>TITLE</th>\n",
       "      <th>CATEGORY</th>\n",
       "      <th>SUB_CATEGORY</th>\n",
       "    </tr>\n",
       "  </thead>\n",
       "  <tbody>\n",
       "    <tr>\n",
       "      <th>0</th>\n",
       "      <td>SYSTEMS AND METHODS FOR STRUCTURE DISCOVERY AN...</td>\n",
       "      <td>ARTIFICIAL INTELLIGENCE</td>\n",
       "      <td>INFORMATION AND SIGNAL PROCESSING TECHNOLOGIES</td>\n",
       "    </tr>\n",
       "    <tr>\n",
       "      <th>1</th>\n",
       "      <td>FREQUENCY SEPARATOR, OPTICAL QUANTIZATION CIRC...</td>\n",
       "      <td>ARTIFICIAL INTELLIGENCE</td>\n",
       "      <td>INFORMATION AND SIGNAL PROCESSING TECHNOLOGIES</td>\n",
       "    </tr>\n",
       "    <tr>\n",
       "      <th>2</th>\n",
       "      <td>MEDICAL STRUCTURED REPORTING WORKFLOW ASSISTED...</td>\n",
       "      <td>ARTIFICIAL INTELLIGENCE</td>\n",
       "      <td>INFORMATION AND SIGNAL PROCESSING TECHNOLOGIES</td>\n",
       "    </tr>\n",
       "    <tr>\n",
       "      <th>3</th>\n",
       "      <td>SYSTEMS, METHODS, AND APPARATUSES FOR GENERATI...</td>\n",
       "      <td>ARTIFICIAL INTELLIGENCE</td>\n",
       "      <td>INFORMATION AND SIGNAL PROCESSING TECHNOLOGIES</td>\n",
       "    </tr>\n",
       "    <tr>\n",
       "      <th>4</th>\n",
       "      <td>NATURAL LANGUAGE PROCESSING FOR BLOCKCHAIN-BAS...</td>\n",
       "      <td>ARTIFICIAL INTELLIGENCE</td>\n",
       "      <td>INFORMATION AND SIGNAL PROCESSING TECHNOLOGIES</td>\n",
       "    </tr>\n",
       "    <tr>\n",
       "      <th>...</th>\n",
       "      <td>...</td>\n",
       "      <td>...</td>\n",
       "      <td>...</td>\n",
       "    </tr>\n",
       "    <tr>\n",
       "      <th>8151</th>\n",
       "      <td>SYSTEMS AND METHODS FOR MONITORING AUTOMATED C...</td>\n",
       "      <td>COMPOSITE</td>\n",
       "      <td>MANUFACTURING PROCESSES/ DESIGN TOOLS/ TECHNIQUES</td>\n",
       "    </tr>\n",
       "    <tr>\n",
       "      <th>8152</th>\n",
       "      <td>PORTABLE COMPOSITE BONDING INSPECTION SYSTEM</td>\n",
       "      <td>COMPOSITE</td>\n",
       "      <td>MANUFACTURING PROCESSES/ DESIGN TOOLS/ TECHNIQUES</td>\n",
       "    </tr>\n",
       "    <tr>\n",
       "      <th>8153</th>\n",
       "      <td>METHODS OF DEBONDING A COMPOSITE TOOLING</td>\n",
       "      <td>COMPOSITE</td>\n",
       "      <td>MANUFACTURING PROCESSES/ DESIGN TOOLS/ TECHNIQUES</td>\n",
       "    </tr>\n",
       "    <tr>\n",
       "      <th>8154</th>\n",
       "      <td>ADHESIVE OF A SILICON AND SILICA COMPOSITE FOR...</td>\n",
       "      <td>COMPOSITE</td>\n",
       "      <td>MANUFACTURING PROCESSES/ DESIGN TOOLS/ TECHNIQUES</td>\n",
       "    </tr>\n",
       "    <tr>\n",
       "      <th>8155</th>\n",
       "      <td>COMPOSITE LAMINATION USING ARRAY OF PARALLEL M...</td>\n",
       "      <td>COMPOSITE</td>\n",
       "      <td>MANUFACTURING PROCESSES/ DESIGN TOOLS/ TECHNIQUES</td>\n",
       "    </tr>\n",
       "  </tbody>\n",
       "</table>\n",
       "<p>8156 rows × 3 columns</p>\n",
       "</div>"
      ],
      "text/plain": [
       "                                                  TITLE  \\\n",
       "0     SYSTEMS AND METHODS FOR STRUCTURE DISCOVERY AN...   \n",
       "1     FREQUENCY SEPARATOR, OPTICAL QUANTIZATION CIRC...   \n",
       "2     MEDICAL STRUCTURED REPORTING WORKFLOW ASSISTED...   \n",
       "3     SYSTEMS, METHODS, AND APPARATUSES FOR GENERATI...   \n",
       "4     NATURAL LANGUAGE PROCESSING FOR BLOCKCHAIN-BAS...   \n",
       "...                                                 ...   \n",
       "8151  SYSTEMS AND METHODS FOR MONITORING AUTOMATED C...   \n",
       "8152       PORTABLE COMPOSITE BONDING INSPECTION SYSTEM   \n",
       "8153           METHODS OF DEBONDING A COMPOSITE TOOLING   \n",
       "8154  ADHESIVE OF A SILICON AND SILICA COMPOSITE FOR...   \n",
       "8155  COMPOSITE LAMINATION USING ARRAY OF PARALLEL M...   \n",
       "\n",
       "                     CATEGORY  \\\n",
       "0     ARTIFICIAL INTELLIGENCE   \n",
       "1     ARTIFICIAL INTELLIGENCE   \n",
       "2     ARTIFICIAL INTELLIGENCE   \n",
       "3     ARTIFICIAL INTELLIGENCE   \n",
       "4     ARTIFICIAL INTELLIGENCE   \n",
       "...                       ...   \n",
       "8151                COMPOSITE   \n",
       "8152                COMPOSITE   \n",
       "8153                COMPOSITE   \n",
       "8154                COMPOSITE   \n",
       "8155                COMPOSITE   \n",
       "\n",
       "                                           SUB_CATEGORY  \n",
       "0        INFORMATION AND SIGNAL PROCESSING TECHNOLOGIES  \n",
       "1        INFORMATION AND SIGNAL PROCESSING TECHNOLOGIES  \n",
       "2        INFORMATION AND SIGNAL PROCESSING TECHNOLOGIES  \n",
       "3        INFORMATION AND SIGNAL PROCESSING TECHNOLOGIES  \n",
       "4        INFORMATION AND SIGNAL PROCESSING TECHNOLOGIES  \n",
       "...                                                 ...  \n",
       "8151  MANUFACTURING PROCESSES/ DESIGN TOOLS/ TECHNIQUES  \n",
       "8152  MANUFACTURING PROCESSES/ DESIGN TOOLS/ TECHNIQUES  \n",
       "8153  MANUFACTURING PROCESSES/ DESIGN TOOLS/ TECHNIQUES  \n",
       "8154  MANUFACTURING PROCESSES/ DESIGN TOOLS/ TECHNIQUES  \n",
       "8155  MANUFACTURING PROCESSES/ DESIGN TOOLS/ TECHNIQUES  \n",
       "\n",
       "[8156 rows x 3 columns]"
      ]
     },
     "execution_count": 6,
     "metadata": {},
     "output_type": "execute_result"
    }
   ],
   "source": [
    "df[['TITLE','CATEGORY','SUB_CATEGORY']] = df[['TITLE','CATEGORY','SUB_CATEGORY']].apply(lambda x: x.str.upper())\n",
    "\n",
    "df[['TITLE', 'CATEGORY','SUB_CATEGORY']]"
   ]
  },
  {
   "cell_type": "markdown",
   "metadata": {},
   "source": [
    "Formatting Asignee"
   ]
  },
  {
   "cell_type": "code",
   "execution_count": 7,
   "metadata": {},
   "outputs": [
    {
     "data": {
      "text/plain": [
       "0                           CASETEXT, INC.\n",
       "1          MITSUBISHI ELECTRIC CORPORATION\n",
       "2                                 EBIT SRL\n",
       "3       PREMIER HEALTHCARE SOLUTIONS, INC.\n",
       "4                                      NaN\n",
       "                       ...                \n",
       "8151                    THE BOEING COMPANY\n",
       "8152                     SPACE MICRO, INC.\n",
       "8153       TOYOTA MOTOR SALES U.S.A., INC.\n",
       "8154                                   NaN\n",
       "8155                    THE BOEING COMPANY\n",
       "Name: ASIGNEE, Length: 8156, dtype: object"
      ]
     },
     "execution_count": 7,
     "metadata": {},
     "output_type": "execute_result"
    }
   ],
   "source": [
    "# Standardize company names\n",
    "df['ASIGNEE'] = df['ASIGNEE'].str.upper().str.strip()\n",
    "\n",
    "# Remove duplicates after standardization\n",
    "df.drop_duplicates(inplace=True)\n",
    "\n",
    "# Display standardized company names\n",
    "df['ASIGNEE']"
   ]
  },
  {
   "cell_type": "code",
   "execution_count": 8,
   "metadata": {},
   "outputs": [
    {
     "data": {
      "text/html": [
       "<div>\n",
       "<style scoped>\n",
       "    .dataframe tbody tr th:only-of-type {\n",
       "        vertical-align: middle;\n",
       "    }\n",
       "\n",
       "    .dataframe tbody tr th {\n",
       "        vertical-align: top;\n",
       "    }\n",
       "\n",
       "    .dataframe thead th {\n",
       "        text-align: right;\n",
       "    }\n",
       "</style>\n",
       "<table border=\"1\" class=\"dataframe\">\n",
       "  <thead>\n",
       "    <tr style=\"text-align: right;\">\n",
       "      <th></th>\n",
       "      <th>TITLE</th>\n",
       "      <th>CPC</th>\n",
       "      <th>ASIGNEE</th>\n",
       "      <th>FILING_DATE</th>\n",
       "      <th>PATENT_NO</th>\n",
       "      <th>RELEVANCY</th>\n",
       "      <th>PRODUCT</th>\n",
       "      <th>CATEGORY</th>\n",
       "      <th>SUB_CATEGORY</th>\n",
       "      <th>TAXONOMY_SSTT</th>\n",
       "    </tr>\n",
       "  </thead>\n",
       "  <tbody>\n",
       "    <tr>\n",
       "      <th>0</th>\n",
       "      <td>SYSTEMS AND METHODS FOR STRUCTURE DISCOVERY AN...</td>\n",
       "      <td>G06F40/289;G06F40/40;G06F16/33;G06F40/279;G06F...</td>\n",
       "      <td>CASETEXT, INC.</td>\n",
       "      <td>2023-06-29</td>\n",
       "      <td>11861321</td>\n",
       "      <td>69.637240</td>\n",
       "      <td>NaN</td>\n",
       "      <td>ARTIFICIAL INTELLIGENCE</td>\n",
       "      <td>INFORMATION AND SIGNAL PROCESSING TECHNOLOGIES</td>\n",
       "      <td>A09</td>\n",
       "    </tr>\n",
       "    <tr>\n",
       "      <th>1</th>\n",
       "      <td>FREQUENCY SEPARATOR, OPTICAL QUANTIZATION CIRC...</td>\n",
       "      <td>G02F1/01;G02F2/006;G02F7/00</td>\n",
       "      <td>MITSUBISHI ELECTRIC CORPORATION</td>\n",
       "      <td>2023-06-27</td>\n",
       "      <td>20230350269</td>\n",
       "      <td>46.685993</td>\n",
       "      <td>NaN</td>\n",
       "      <td>ARTIFICIAL INTELLIGENCE</td>\n",
       "      <td>INFORMATION AND SIGNAL PROCESSING TECHNOLOGIES</td>\n",
       "      <td>A09</td>\n",
       "    </tr>\n",
       "    <tr>\n",
       "      <th>2</th>\n",
       "      <td>MEDICAL STRUCTURED REPORTING WORKFLOW ASSISTED...</td>\n",
       "      <td>G06F40/174;G06N20/00;G16H50/20;G16H10/60;G16H1...</td>\n",
       "      <td>EBIT SRL</td>\n",
       "      <td>2023-06-27</td>\n",
       "      <td>20240006039</td>\n",
       "      <td>71.258710</td>\n",
       "      <td>NaN</td>\n",
       "      <td>ARTIFICIAL INTELLIGENCE</td>\n",
       "      <td>INFORMATION AND SIGNAL PROCESSING TECHNOLOGIES</td>\n",
       "      <td>A09</td>\n",
       "    </tr>\n",
       "    <tr>\n",
       "      <th>3</th>\n",
       "      <td>SYSTEMS, METHODS, AND APPARATUSES FOR GENERATI...</td>\n",
       "      <td>G06F40/30;G06F16/34;G06F40/279;G06F21/6254;G06...</td>\n",
       "      <td>PREMIER HEALTHCARE SOLUTIONS, INC.</td>\n",
       "      <td>2023-06-23</td>\n",
       "      <td>20230418981</td>\n",
       "      <td>61.538550</td>\n",
       "      <td>NaN</td>\n",
       "      <td>ARTIFICIAL INTELLIGENCE</td>\n",
       "      <td>INFORMATION AND SIGNAL PROCESSING TECHNOLOGIES</td>\n",
       "      <td>A09</td>\n",
       "    </tr>\n",
       "    <tr>\n",
       "      <th>4</th>\n",
       "      <td>NATURAL LANGUAGE PROCESSING FOR BLOCKCHAIN-BAS...</td>\n",
       "      <td>G06F16/289;G06F16/283;G06F16/24573;G06F16/27</td>\n",
       "      <td>NaN</td>\n",
       "      <td>2023-06-09</td>\n",
       "      <td>20230409604</td>\n",
       "      <td>68.528656</td>\n",
       "      <td>NaN</td>\n",
       "      <td>ARTIFICIAL INTELLIGENCE</td>\n",
       "      <td>INFORMATION AND SIGNAL PROCESSING TECHNOLOGIES</td>\n",
       "      <td>A09</td>\n",
       "    </tr>\n",
       "  </tbody>\n",
       "</table>\n",
       "</div>"
      ],
      "text/plain": [
       "                                               TITLE  \\\n",
       "0  SYSTEMS AND METHODS FOR STRUCTURE DISCOVERY AN...   \n",
       "1  FREQUENCY SEPARATOR, OPTICAL QUANTIZATION CIRC...   \n",
       "2  MEDICAL STRUCTURED REPORTING WORKFLOW ASSISTED...   \n",
       "3  SYSTEMS, METHODS, AND APPARATUSES FOR GENERATI...   \n",
       "4  NATURAL LANGUAGE PROCESSING FOR BLOCKCHAIN-BAS...   \n",
       "\n",
       "                                                 CPC  \\\n",
       "0  G06F40/289;G06F40/40;G06F16/33;G06F40/279;G06F...   \n",
       "1                        G02F1/01;G02F2/006;G02F7/00   \n",
       "2  G06F40/174;G06N20/00;G16H50/20;G16H10/60;G16H1...   \n",
       "3  G06F40/30;G06F16/34;G06F40/279;G06F21/6254;G06...   \n",
       "4       G06F16/289;G06F16/283;G06F16/24573;G06F16/27   \n",
       "\n",
       "                              ASIGNEE FILING_DATE    PATENT_NO  RELEVANCY  \\\n",
       "0                      CASETEXT, INC.  2023-06-29     11861321  69.637240   \n",
       "1     MITSUBISHI ELECTRIC CORPORATION  2023-06-27  20230350269  46.685993   \n",
       "2                            EBIT SRL  2023-06-27  20240006039  71.258710   \n",
       "3  PREMIER HEALTHCARE SOLUTIONS, INC.  2023-06-23  20230418981  61.538550   \n",
       "4                                 NaN  2023-06-09  20230409604  68.528656   \n",
       "\n",
       "   PRODUCT                 CATEGORY  \\\n",
       "0      NaN  ARTIFICIAL INTELLIGENCE   \n",
       "1      NaN  ARTIFICIAL INTELLIGENCE   \n",
       "2      NaN  ARTIFICIAL INTELLIGENCE   \n",
       "3      NaN  ARTIFICIAL INTELLIGENCE   \n",
       "4      NaN  ARTIFICIAL INTELLIGENCE   \n",
       "\n",
       "                                     SUB_CATEGORY TAXONOMY_SSTT  \n",
       "0  INFORMATION AND SIGNAL PROCESSING TECHNOLOGIES           A09  \n",
       "1  INFORMATION AND SIGNAL PROCESSING TECHNOLOGIES           A09  \n",
       "2  INFORMATION AND SIGNAL PROCESSING TECHNOLOGIES           A09  \n",
       "3  INFORMATION AND SIGNAL PROCESSING TECHNOLOGIES           A09  \n",
       "4  INFORMATION AND SIGNAL PROCESSING TECHNOLOGIES           A09  "
      ]
     },
     "execution_count": 8,
     "metadata": {},
     "output_type": "execute_result"
    }
   ],
   "source": [
    "df.head()"
   ]
  },
  {
   "cell_type": "code",
   "execution_count": 9,
   "metadata": {},
   "outputs": [
    {
     "data": {
      "text/html": [
       "<div>\n",
       "<style scoped>\n",
       "    .dataframe tbody tr th:only-of-type {\n",
       "        vertical-align: middle;\n",
       "    }\n",
       "\n",
       "    .dataframe tbody tr th {\n",
       "        vertical-align: top;\n",
       "    }\n",
       "\n",
       "    .dataframe thead th {\n",
       "        text-align: right;\n",
       "    }\n",
       "</style>\n",
       "<table border=\"1\" class=\"dataframe\">\n",
       "  <thead>\n",
       "    <tr style=\"text-align: right;\">\n",
       "      <th></th>\n",
       "      <th>TITLE</th>\n",
       "      <th>CPC</th>\n",
       "      <th>ASIGNEE</th>\n",
       "      <th>FILING_DATE</th>\n",
       "      <th>PATENT_NO</th>\n",
       "      <th>RELEVANCY</th>\n",
       "      <th>PRODUCT</th>\n",
       "      <th>CATEGORY</th>\n",
       "      <th>SUB_CATEGORY</th>\n",
       "      <th>TAXONOMY_SSTT</th>\n",
       "    </tr>\n",
       "  </thead>\n",
       "  <tbody>\n",
       "    <tr>\n",
       "      <th>count</th>\n",
       "      <td>8156</td>\n",
       "      <td>8043</td>\n",
       "      <td>3698</td>\n",
       "      <td>8156</td>\n",
       "      <td>8.156000e+03</td>\n",
       "      <td>8156.000000</td>\n",
       "      <td>0.0</td>\n",
       "      <td>8156</td>\n",
       "      <td>8156</td>\n",
       "      <td>8156</td>\n",
       "    </tr>\n",
       "    <tr>\n",
       "      <th>unique</th>\n",
       "      <td>7376</td>\n",
       "      <td>7794</td>\n",
       "      <td>1661</td>\n",
       "      <td>NaN</td>\n",
       "      <td>8.092000e+03</td>\n",
       "      <td>NaN</td>\n",
       "      <td>NaN</td>\n",
       "      <td>5</td>\n",
       "      <td>17</td>\n",
       "      <td>17</td>\n",
       "    </tr>\n",
       "    <tr>\n",
       "      <th>top</th>\n",
       "      <td>UNMANNED AERIAL VEHICLE</td>\n",
       "      <td>G06F21/577</td>\n",
       "      <td>INTERNATIONAL BUSINESS MACHINES CORPORATION</td>\n",
       "      <td>NaN</td>\n",
       "      <td>2.020039e+10</td>\n",
       "      <td>NaN</td>\n",
       "      <td>NaN</td>\n",
       "      <td>ARTIFICIAL INTELLIGENCE</td>\n",
       "      <td>INTEGRATED PLATFORMS</td>\n",
       "      <td>C02</td>\n",
       "    </tr>\n",
       "    <tr>\n",
       "      <th>freq</th>\n",
       "      <td>147</td>\n",
       "      <td>11</td>\n",
       "      <td>122</td>\n",
       "      <td>NaN</td>\n",
       "      <td>2.000000e+00</td>\n",
       "      <td>NaN</td>\n",
       "      <td>NaN</td>\n",
       "      <td>2812</td>\n",
       "      <td>2063</td>\n",
       "      <td>2063</td>\n",
       "    </tr>\n",
       "    <tr>\n",
       "      <th>mean</th>\n",
       "      <td>NaN</td>\n",
       "      <td>NaN</td>\n",
       "      <td>NaN</td>\n",
       "      <td>2016-03-28 17:00:08.827856896</td>\n",
       "      <td>NaN</td>\n",
       "      <td>60.742594</td>\n",
       "      <td>NaN</td>\n",
       "      <td>NaN</td>\n",
       "      <td>NaN</td>\n",
       "      <td>NaN</td>\n",
       "    </tr>\n",
       "    <tr>\n",
       "      <th>min</th>\n",
       "      <td>NaN</td>\n",
       "      <td>NaN</td>\n",
       "      <td>NaN</td>\n",
       "      <td>2006-01-03 00:00:00</td>\n",
       "      <td>NaN</td>\n",
       "      <td>12.973147</td>\n",
       "      <td>NaN</td>\n",
       "      <td>NaN</td>\n",
       "      <td>NaN</td>\n",
       "      <td>NaN</td>\n",
       "    </tr>\n",
       "    <tr>\n",
       "      <th>25%</th>\n",
       "      <td>NaN</td>\n",
       "      <td>NaN</td>\n",
       "      <td>NaN</td>\n",
       "      <td>2013-02-13 00:00:00</td>\n",
       "      <td>NaN</td>\n",
       "      <td>45.402196</td>\n",
       "      <td>NaN</td>\n",
       "      <td>NaN</td>\n",
       "      <td>NaN</td>\n",
       "      <td>NaN</td>\n",
       "    </tr>\n",
       "    <tr>\n",
       "      <th>50%</th>\n",
       "      <td>NaN</td>\n",
       "      <td>NaN</td>\n",
       "      <td>NaN</td>\n",
       "      <td>2017-02-22 00:00:00</td>\n",
       "      <td>NaN</td>\n",
       "      <td>58.735012</td>\n",
       "      <td>NaN</td>\n",
       "      <td>NaN</td>\n",
       "      <td>NaN</td>\n",
       "      <td>NaN</td>\n",
       "    </tr>\n",
       "    <tr>\n",
       "      <th>75%</th>\n",
       "      <td>NaN</td>\n",
       "      <td>NaN</td>\n",
       "      <td>NaN</td>\n",
       "      <td>2019-12-27 00:00:00</td>\n",
       "      <td>NaN</td>\n",
       "      <td>70.138640</td>\n",
       "      <td>NaN</td>\n",
       "      <td>NaN</td>\n",
       "      <td>NaN</td>\n",
       "      <td>NaN</td>\n",
       "    </tr>\n",
       "    <tr>\n",
       "      <th>max</th>\n",
       "      <td>NaN</td>\n",
       "      <td>NaN</td>\n",
       "      <td>NaN</td>\n",
       "      <td>2023-10-16 00:00:00</td>\n",
       "      <td>NaN</td>\n",
       "      <td>229.259740</td>\n",
       "      <td>NaN</td>\n",
       "      <td>NaN</td>\n",
       "      <td>NaN</td>\n",
       "      <td>NaN</td>\n",
       "    </tr>\n",
       "    <tr>\n",
       "      <th>std</th>\n",
       "      <td>NaN</td>\n",
       "      <td>NaN</td>\n",
       "      <td>NaN</td>\n",
       "      <td>NaN</td>\n",
       "      <td>NaN</td>\n",
       "      <td>23.200723</td>\n",
       "      <td>NaN</td>\n",
       "      <td>NaN</td>\n",
       "      <td>NaN</td>\n",
       "      <td>NaN</td>\n",
       "    </tr>\n",
       "  </tbody>\n",
       "</table>\n",
       "</div>"
      ],
      "text/plain": [
       "                          TITLE         CPC  \\\n",
       "count                      8156        8043   \n",
       "unique                     7376        7794   \n",
       "top     UNMANNED AERIAL VEHICLE  G06F21/577   \n",
       "freq                        147          11   \n",
       "mean                        NaN         NaN   \n",
       "min                         NaN         NaN   \n",
       "25%                         NaN         NaN   \n",
       "50%                         NaN         NaN   \n",
       "75%                         NaN         NaN   \n",
       "max                         NaN         NaN   \n",
       "std                         NaN         NaN   \n",
       "\n",
       "                                            ASIGNEE  \\\n",
       "count                                          3698   \n",
       "unique                                         1661   \n",
       "top     INTERNATIONAL BUSINESS MACHINES CORPORATION   \n",
       "freq                                            122   \n",
       "mean                                            NaN   \n",
       "min                                             NaN   \n",
       "25%                                             NaN   \n",
       "50%                                             NaN   \n",
       "75%                                             NaN   \n",
       "max                                             NaN   \n",
       "std                                             NaN   \n",
       "\n",
       "                          FILING_DATE     PATENT_NO    RELEVANCY  PRODUCT  \\\n",
       "count                            8156  8.156000e+03  8156.000000      0.0   \n",
       "unique                            NaN  8.092000e+03          NaN      NaN   \n",
       "top                               NaN  2.020039e+10          NaN      NaN   \n",
       "freq                              NaN  2.000000e+00          NaN      NaN   \n",
       "mean    2016-03-28 17:00:08.827856896           NaN    60.742594      NaN   \n",
       "min               2006-01-03 00:00:00           NaN    12.973147      NaN   \n",
       "25%               2013-02-13 00:00:00           NaN    45.402196      NaN   \n",
       "50%               2017-02-22 00:00:00           NaN    58.735012      NaN   \n",
       "75%               2019-12-27 00:00:00           NaN    70.138640      NaN   \n",
       "max               2023-10-16 00:00:00           NaN   229.259740      NaN   \n",
       "std                               NaN           NaN    23.200723      NaN   \n",
       "\n",
       "                       CATEGORY          SUB_CATEGORY TAXONOMY_SSTT  \n",
       "count                      8156                  8156          8156  \n",
       "unique                        5                    17            17  \n",
       "top     ARTIFICIAL INTELLIGENCE  INTEGRATED PLATFORMS           C02  \n",
       "freq                       2812                  2063          2063  \n",
       "mean                        NaN                   NaN           NaN  \n",
       "min                         NaN                   NaN           NaN  \n",
       "25%                         NaN                   NaN           NaN  \n",
       "50%                         NaN                   NaN           NaN  \n",
       "75%                         NaN                   NaN           NaN  \n",
       "max                         NaN                   NaN           NaN  \n",
       "std                         NaN                   NaN           NaN  "
      ]
     },
     "execution_count": 9,
     "metadata": {},
     "output_type": "execute_result"
    }
   ],
   "source": [
    "df.describe(include=\"all\")"
   ]
  },
  {
   "cell_type": "code",
   "execution_count": 10,
   "metadata": {},
   "outputs": [
    {
     "name": "stdout",
     "output_type": "stream",
     "text": [
      "<class 'pandas.core.frame.DataFrame'>\n",
      "RangeIndex: 8156 entries, 0 to 8155\n",
      "Data columns (total 10 columns):\n",
      " #   Column         Non-Null Count  Dtype         \n",
      "---  ------         --------------  -----         \n",
      " 0   TITLE          8156 non-null   object        \n",
      " 1   CPC            8043 non-null   object        \n",
      " 2   ASIGNEE        3698 non-null   object        \n",
      " 3   FILING_DATE    8156 non-null   datetime64[ns]\n",
      " 4   PATENT_NO      8156 non-null   object        \n",
      " 5   RELEVANCY      8156 non-null   float64       \n",
      " 6   PRODUCT        0 non-null      float64       \n",
      " 7   CATEGORY       8156 non-null   object        \n",
      " 8   SUB_CATEGORY   8156 non-null   object        \n",
      " 9   TAXONOMY_SSTT  8156 non-null   object        \n",
      "dtypes: datetime64[ns](1), float64(2), object(7)\n",
      "memory usage: 637.3+ KB\n"
     ]
    }
   ],
   "source": [
    "df.info()"
   ]
  },
  {
   "cell_type": "markdown",
   "metadata": {},
   "source": [
    "## Missing values\n",
    "\n",
    "There are two columns missing values; `CPC` and `ASIGNEE`."
   ]
  },
  {
   "cell_type": "code",
   "execution_count": 11,
   "metadata": {},
   "outputs": [
    {
     "name": "stdout",
     "output_type": "stream",
     "text": [
      "TITLE               0\n",
      "CPC               113\n",
      "ASIGNEE          4458\n",
      "FILING_DATE         0\n",
      "PATENT_NO           0\n",
      "RELEVANCY           0\n",
      "PRODUCT          8156\n",
      "CATEGORY            0\n",
      "SUB_CATEGORY        0\n",
      "TAXONOMY_SSTT       0\n",
      "dtype: int64\n"
     ]
    }
   ],
   "source": [
    "missing_data = df.isna()\n",
    "\n",
    "# sum() to count missing values in each column\n",
    "missing_data_count = missing_data.sum()\n",
    "\n",
    "print(missing_data_count)"
   ]
  },
  {
   "cell_type": "code",
   "execution_count": 12,
   "metadata": {},
   "outputs": [
    {
     "name": "stdout",
     "output_type": "stream",
     "text": [
      "TITLE               0\n",
      "CPC                 0\n",
      "ASIGNEE          4439\n",
      "FILING_DATE         0\n",
      "PATENT_NO           0\n",
      "RELEVANCY           0\n",
      "PRODUCT          8043\n",
      "CATEGORY            0\n",
      "SUB_CATEGORY        0\n",
      "TAXONOMY_SSTT       0\n",
      "dtype: int64\n"
     ]
    }
   ],
   "source": [
    "# Drop rows with missing values in some columns\n",
    "df.dropna(subset=['FILING_DATE','PATENT_NO','RELEVANCY','CPC'], inplace=True)\n",
    "print(df.isna().sum())"
   ]
  },
  {
   "cell_type": "markdown",
   "metadata": {},
   "source": [
    "`replace()` method in pandas will be used. *Values of the Series/DataFrame are replaced with other values dynamically. This differs from updating with .loc or .iloc, which require to specify a location to update with some value.*\n",
    "\n",
    "> Need further disussion to handle the missing values"
   ]
  },
  {
   "cell_type": "markdown",
   "metadata": {},
   "source": [
    "Drop data that has no CPC Inventive code"
   ]
  },
  {
   "cell_type": "code",
   "execution_count": 13,
   "metadata": {},
   "outputs": [],
   "source": [
    "# #Will be moved to utils.py for reusability and maintainabilty\n",
    "\n",
    "# def replace_to_unknown(df):\n",
    "#     # Replace NaN values with \"Unknown\" in the entire DataFrame\n",
    "#     return df.replace(np.nan, \"Unknown\")"
   ]
  },
  {
   "cell_type": "code",
   "execution_count": 14,
   "metadata": {},
   "outputs": [],
   "source": [
    "# main_df = replace_to_unknown(main_df)\n",
    "\n",
    "# main_df.head()"
   ]
  },
  {
   "cell_type": "code",
   "execution_count": 15,
   "metadata": {},
   "outputs": [],
   "source": [
    "# #save the cleaned data to a new file\n",
    "# data_path = \"../data/processed/uav.csv\"\n",
    "\n",
    "# main_df.to_csv(data_path, index=False)"
   ]
  },
  {
   "cell_type": "markdown",
   "metadata": {},
   "source": [
    "## Feature Engineering"
   ]
  },
  {
   "cell_type": "markdown",
   "metadata": {},
   "source": [
    "Adding Section Feature by extracting from the `SSTT_TAXONOMY` feature"
   ]
  },
  {
   "cell_type": "code",
   "execution_count": 16,
   "metadata": {},
   "outputs": [
    {
     "data": {
      "text/html": [
       "<div>\n",
       "<style scoped>\n",
       "    .dataframe tbody tr th:only-of-type {\n",
       "        vertical-align: middle;\n",
       "    }\n",
       "\n",
       "    .dataframe tbody tr th {\n",
       "        vertical-align: top;\n",
       "    }\n",
       "\n",
       "    .dataframe thead th {\n",
       "        text-align: right;\n",
       "    }\n",
       "</style>\n",
       "<table border=\"1\" class=\"dataframe\">\n",
       "  <thead>\n",
       "    <tr style=\"text-align: right;\">\n",
       "      <th></th>\n",
       "      <th>TAXONOMY_SSTT</th>\n",
       "      <th>SECTION</th>\n",
       "    </tr>\n",
       "  </thead>\n",
       "  <tbody>\n",
       "    <tr>\n",
       "      <th>0</th>\n",
       "      <td>A09</td>\n",
       "      <td>A</td>\n",
       "    </tr>\n",
       "    <tr>\n",
       "      <th>1</th>\n",
       "      <td>A09</td>\n",
       "      <td>A</td>\n",
       "    </tr>\n",
       "    <tr>\n",
       "      <th>2</th>\n",
       "      <td>A09</td>\n",
       "      <td>A</td>\n",
       "    </tr>\n",
       "    <tr>\n",
       "      <th>3</th>\n",
       "      <td>A09</td>\n",
       "      <td>A</td>\n",
       "    </tr>\n",
       "    <tr>\n",
       "      <th>4</th>\n",
       "      <td>A09</td>\n",
       "      <td>A</td>\n",
       "    </tr>\n",
       "  </tbody>\n",
       "</table>\n",
       "</div>"
      ],
      "text/plain": [
       "  TAXONOMY_SSTT SECTION\n",
       "0           A09       A\n",
       "1           A09       A\n",
       "2           A09       A\n",
       "3           A09       A\n",
       "4           A09       A"
      ]
     },
     "execution_count": 16,
     "metadata": {},
     "output_type": "execute_result"
    }
   ],
   "source": [
    "# Extract only the letters from the \"SSTT_TAXONOMY\" column\n",
    "df['SECTION'] = df['TAXONOMY_SSTT'].str.extract(r'([A-Z]+)')\n",
    "\n",
    "df[['TAXONOMY_SSTT','SECTION']].head()"
   ]
  },
  {
   "cell_type": "markdown",
   "metadata": {},
   "source": [
    "Unique Values"
   ]
  },
  {
   "cell_type": "code",
   "execution_count": 17,
   "metadata": {},
   "outputs": [
    {
     "data": {
      "text/plain": [
       "array(['A09', 'C01', 'A08', 'C07', 'B07', 'B14', 'B02', 'C03', 'B10',\n",
       "       'C02', 'B08', 'B09', 'C04', 'B04', 'A04', 'A01', 'B12'],\n",
       "      dtype=object)"
      ]
     },
     "execution_count": 17,
     "metadata": {},
     "output_type": "execute_result"
    }
   ],
   "source": [
    "# Get unique values in the specific column\n",
    "unique_sstt = df['TAXONOMY_SSTT'].unique()\n",
    "\n",
    "unique_sstt"
   ]
  },
  {
   "cell_type": "code",
   "execution_count": 18,
   "metadata": {},
   "outputs": [
    {
     "name": "stdout",
     "output_type": "stream",
     "text": [
      "1624\n"
     ]
    }
   ],
   "source": [
    "# Count unique values in the \"ASIGNEE\" column\n",
    "unique_asignee_count = df['ASIGNEE'].nunique()\n",
    "\n",
    "print(unique_asignee_count)"
   ]
  },
  {
   "cell_type": "markdown",
   "metadata": {},
   "source": [
    "Drop `RELEVANCY` and `PRODUCT` for now"
   ]
  },
  {
   "cell_type": "code",
   "execution_count": 19,
   "metadata": {},
   "outputs": [],
   "source": [
    "df.drop(columns=['RELEVANCY','PRODUCT'], inplace=True)"
   ]
  },
  {
   "cell_type": "markdown",
   "metadata": {},
   "source": [
    "Adding `YEAR` feature"
   ]
  },
  {
   "cell_type": "code",
   "execution_count": 20,
   "metadata": {},
   "outputs": [],
   "source": [
    "# Extract year and create 'YEAR' column\n",
    "df['YEAR'] = df['FILING_DATE'].dt.year\n",
    "\n",
    "# Move 'YEAR' column next to 'FILING_DATE' column\n",
    "filing_date_index = df.columns.get_loc('FILING_DATE')\n",
    "df.insert(filing_date_index + 1, 'YEAR', df.pop('YEAR'))"
   ]
  },
  {
   "cell_type": "code",
   "execution_count": 21,
   "metadata": {},
   "outputs": [
    {
     "data": {
      "text/html": [
       "<div>\n",
       "<style scoped>\n",
       "    .dataframe tbody tr th:only-of-type {\n",
       "        vertical-align: middle;\n",
       "    }\n",
       "\n",
       "    .dataframe tbody tr th {\n",
       "        vertical-align: top;\n",
       "    }\n",
       "\n",
       "    .dataframe thead th {\n",
       "        text-align: right;\n",
       "    }\n",
       "</style>\n",
       "<table border=\"1\" class=\"dataframe\">\n",
       "  <thead>\n",
       "    <tr style=\"text-align: right;\">\n",
       "      <th></th>\n",
       "      <th>TITLE</th>\n",
       "      <th>CPC</th>\n",
       "      <th>ASIGNEE</th>\n",
       "      <th>FILING_DATE</th>\n",
       "      <th>YEAR</th>\n",
       "      <th>PATENT_NO</th>\n",
       "      <th>CATEGORY</th>\n",
       "      <th>SUB_CATEGORY</th>\n",
       "      <th>TAXONOMY_SSTT</th>\n",
       "      <th>SECTION</th>\n",
       "    </tr>\n",
       "  </thead>\n",
       "  <tbody>\n",
       "    <tr>\n",
       "      <th>8151</th>\n",
       "      <td>SYSTEMS AND METHODS FOR MONITORING AUTOMATED C...</td>\n",
       "      <td>B29C70/386;G01N21/88</td>\n",
       "      <td>THE BOEING COMPANY</td>\n",
       "      <td>2006-05-16</td>\n",
       "      <td>2006</td>\n",
       "      <td>20070277919</td>\n",
       "      <td>COMPOSITE</td>\n",
       "      <td>MANUFACTURING PROCESSES/ DESIGN TOOLS/ TECHNIQUES</td>\n",
       "      <td>B12</td>\n",
       "      <td>B</td>\n",
       "    </tr>\n",
       "    <tr>\n",
       "      <th>8152</th>\n",
       "      <td>PORTABLE COMPOSITE BONDING INSPECTION SYSTEM</td>\n",
       "      <td>G01N21/94</td>\n",
       "      <td>SPACE MICRO, INC.</td>\n",
       "      <td>2007-04-23</td>\n",
       "      <td>2007</td>\n",
       "      <td>20070252084</td>\n",
       "      <td>COMPOSITE</td>\n",
       "      <td>MANUFACTURING PROCESSES/ DESIGN TOOLS/ TECHNIQUES</td>\n",
       "      <td>B12</td>\n",
       "      <td>B</td>\n",
       "    </tr>\n",
       "    <tr>\n",
       "      <th>8153</th>\n",
       "      <td>METHODS OF DEBONDING A COMPOSITE TOOLING</td>\n",
       "      <td>B29C70/30;B29C33/505;B64F5/10</td>\n",
       "      <td>TOYOTA MOTOR SALES U.S.A., INC.</td>\n",
       "      <td>2006-07-21</td>\n",
       "      <td>2006</td>\n",
       "      <td>20070006960</td>\n",
       "      <td>COMPOSITE</td>\n",
       "      <td>MANUFACTURING PROCESSES/ DESIGN TOOLS/ TECHNIQUES</td>\n",
       "      <td>B12</td>\n",
       "      <td>B</td>\n",
       "    </tr>\n",
       "    <tr>\n",
       "      <th>8154</th>\n",
       "      <td>ADHESIVE OF A SILICON AND SILICA COMPOSITE FOR...</td>\n",
       "      <td>H01L21/67306</td>\n",
       "      <td>NaN</td>\n",
       "      <td>2006-06-01</td>\n",
       "      <td>2006</td>\n",
       "      <td>20060213601</td>\n",
       "      <td>COMPOSITE</td>\n",
       "      <td>MANUFACTURING PROCESSES/ DESIGN TOOLS/ TECHNIQUES</td>\n",
       "      <td>B12</td>\n",
       "      <td>B</td>\n",
       "    </tr>\n",
       "    <tr>\n",
       "      <th>8155</th>\n",
       "      <td>COMPOSITE LAMINATION USING ARRAY OF PARALLEL M...</td>\n",
       "      <td>B29C70/545;B29C70/386;B29C70/202;B32B38/1808;B...</td>\n",
       "      <td>THE BOEING COMPANY</td>\n",
       "      <td>2006-03-02</td>\n",
       "      <td>2006</td>\n",
       "      <td>20060162143</td>\n",
       "      <td>COMPOSITE</td>\n",
       "      <td>MANUFACTURING PROCESSES/ DESIGN TOOLS/ TECHNIQUES</td>\n",
       "      <td>B12</td>\n",
       "      <td>B</td>\n",
       "    </tr>\n",
       "  </tbody>\n",
       "</table>\n",
       "</div>"
      ],
      "text/plain": [
       "                                                  TITLE  \\\n",
       "8151  SYSTEMS AND METHODS FOR MONITORING AUTOMATED C...   \n",
       "8152       PORTABLE COMPOSITE BONDING INSPECTION SYSTEM   \n",
       "8153           METHODS OF DEBONDING A COMPOSITE TOOLING   \n",
       "8154  ADHESIVE OF A SILICON AND SILICA COMPOSITE FOR...   \n",
       "8155  COMPOSITE LAMINATION USING ARRAY OF PARALLEL M...   \n",
       "\n",
       "                                                    CPC  \\\n",
       "8151                               B29C70/386;G01N21/88   \n",
       "8152                                          G01N21/94   \n",
       "8153                      B29C70/30;B29C33/505;B64F5/10   \n",
       "8154                                       H01L21/67306   \n",
       "8155  B29C70/545;B29C70/386;B29C70/202;B32B38/1808;B...   \n",
       "\n",
       "                              ASIGNEE FILING_DATE  YEAR    PATENT_NO  \\\n",
       "8151               THE BOEING COMPANY  2006-05-16  2006  20070277919   \n",
       "8152                SPACE MICRO, INC.  2007-04-23  2007  20070252084   \n",
       "8153  TOYOTA MOTOR SALES U.S.A., INC.  2006-07-21  2006  20070006960   \n",
       "8154                              NaN  2006-06-01  2006  20060213601   \n",
       "8155               THE BOEING COMPANY  2006-03-02  2006  20060162143   \n",
       "\n",
       "       CATEGORY                                       SUB_CATEGORY  \\\n",
       "8151  COMPOSITE  MANUFACTURING PROCESSES/ DESIGN TOOLS/ TECHNIQUES   \n",
       "8152  COMPOSITE  MANUFACTURING PROCESSES/ DESIGN TOOLS/ TECHNIQUES   \n",
       "8153  COMPOSITE  MANUFACTURING PROCESSES/ DESIGN TOOLS/ TECHNIQUES   \n",
       "8154  COMPOSITE  MANUFACTURING PROCESSES/ DESIGN TOOLS/ TECHNIQUES   \n",
       "8155  COMPOSITE  MANUFACTURING PROCESSES/ DESIGN TOOLS/ TECHNIQUES   \n",
       "\n",
       "     TAXONOMY_SSTT SECTION  \n",
       "8151           B12       B  \n",
       "8152           B12       B  \n",
       "8153           B12       B  \n",
       "8154           B12       B  \n",
       "8155           B12       B  "
      ]
     },
     "execution_count": 21,
     "metadata": {},
     "output_type": "execute_result"
    }
   ],
   "source": [
    "df.tail()"
   ]
  },
  {
   "cell_type": "code",
   "execution_count": 22,
   "metadata": {},
   "outputs": [
    {
     "data": {
      "text/plain": [
       "TITLE                    object\n",
       "CPC                      object\n",
       "ASIGNEE                  object\n",
       "FILING_DATE      datetime64[ns]\n",
       "YEAR                      int32\n",
       "PATENT_NO                object\n",
       "CATEGORY                 object\n",
       "SUB_CATEGORY             object\n",
       "TAXONOMY_SSTT            object\n",
       "SECTION                  object\n",
       "dtype: object"
      ]
     },
     "execution_count": 22,
     "metadata": {},
     "output_type": "execute_result"
    }
   ],
   "source": [
    "df.dtypes"
   ]
  },
  {
   "cell_type": "markdown",
   "metadata": {},
   "source": [
    "## Aggregate data per Week"
   ]
  },
  {
   "cell_type": "code",
   "execution_count": 23,
   "metadata": {},
   "outputs": [],
   "source": [
    "def calculate_application_per_week(data: pd.DataFrame, date_column: str):\n",
    "    \"\"\"\n",
    "    Calculate the cumulative count of patent applications per week.\n",
    "\n",
    "    Parameters:\n",
    "    - data: DataFrame containing the patent application data\n",
    "    - date_column: Name of the column containing the date information\n",
    "\n",
    "    Returns:\n",
    "    - DataFrame with the cumulative count of patent applications per week\n",
    "    \"\"\"\n",
    "    # Convert date column to datetime format\n",
    "    data[date_column] = pd.to_datetime(data[date_column])\n",
    "\n",
    "    # Extract year and week number from the date\n",
    "    data['Week'] = data[date_column].dt.to_period('W')\n",
    "\n",
    "    # Group by week and count the number of applications in each group\n",
    "    applications_per_week = data.groupby('Week').size().reset_index(name='Applications')\n",
    "\n",
    "    return applications_per_week"
   ]
  },
  {
   "cell_type": "code",
   "execution_count": 25,
   "metadata": {},
   "outputs": [
    {
     "data": {
      "text/html": [
       "<div>\n",
       "<style scoped>\n",
       "    .dataframe tbody tr th:only-of-type {\n",
       "        vertical-align: middle;\n",
       "    }\n",
       "\n",
       "    .dataframe tbody tr th {\n",
       "        vertical-align: top;\n",
       "    }\n",
       "\n",
       "    .dataframe thead th {\n",
       "        text-align: right;\n",
       "    }\n",
       "</style>\n",
       "<table border=\"1\" class=\"dataframe\">\n",
       "  <thead>\n",
       "    <tr style=\"text-align: right;\">\n",
       "      <th></th>\n",
       "      <th>Week</th>\n",
       "      <th>Applications</th>\n",
       "    </tr>\n",
       "  </thead>\n",
       "  <tbody>\n",
       "    <tr>\n",
       "      <th>0</th>\n",
       "      <td>2006-01-02/2006-01-08</td>\n",
       "      <td>3</td>\n",
       "    </tr>\n",
       "    <tr>\n",
       "      <th>1</th>\n",
       "      <td>2006-01-09/2006-01-15</td>\n",
       "      <td>8</td>\n",
       "    </tr>\n",
       "    <tr>\n",
       "      <th>2</th>\n",
       "      <td>2006-01-16/2006-01-22</td>\n",
       "      <td>5</td>\n",
       "    </tr>\n",
       "    <tr>\n",
       "      <th>3</th>\n",
       "      <td>2006-01-23/2006-01-29</td>\n",
       "      <td>4</td>\n",
       "    </tr>\n",
       "    <tr>\n",
       "      <th>4</th>\n",
       "      <td>2006-01-30/2006-02-05</td>\n",
       "      <td>6</td>\n",
       "    </tr>\n",
       "    <tr>\n",
       "      <th>...</th>\n",
       "      <td>...</td>\n",
       "      <td>...</td>\n",
       "    </tr>\n",
       "    <tr>\n",
       "      <th>918</th>\n",
       "      <td>2023-09-18/2023-09-24</td>\n",
       "      <td>1</td>\n",
       "    </tr>\n",
       "    <tr>\n",
       "      <th>919</th>\n",
       "      <td>2023-09-25/2023-10-01</td>\n",
       "      <td>2</td>\n",
       "    </tr>\n",
       "    <tr>\n",
       "      <th>920</th>\n",
       "      <td>2023-10-02/2023-10-08</td>\n",
       "      <td>1</td>\n",
       "    </tr>\n",
       "    <tr>\n",
       "      <th>921</th>\n",
       "      <td>2023-10-09/2023-10-15</td>\n",
       "      <td>3</td>\n",
       "    </tr>\n",
       "    <tr>\n",
       "      <th>922</th>\n",
       "      <td>2023-10-16/2023-10-22</td>\n",
       "      <td>1</td>\n",
       "    </tr>\n",
       "  </tbody>\n",
       "</table>\n",
       "<p>923 rows × 2 columns</p>\n",
       "</div>"
      ],
      "text/plain": [
       "                      Week  Applications\n",
       "0    2006-01-02/2006-01-08             3\n",
       "1    2006-01-09/2006-01-15             8\n",
       "2    2006-01-16/2006-01-22             5\n",
       "3    2006-01-23/2006-01-29             4\n",
       "4    2006-01-30/2006-02-05             6\n",
       "..                     ...           ...\n",
       "918  2023-09-18/2023-09-24             1\n",
       "919  2023-09-25/2023-10-01             2\n",
       "920  2023-10-02/2023-10-08             1\n",
       "921  2023-10-09/2023-10-15             3\n",
       "922  2023-10-16/2023-10-22             1\n",
       "\n",
       "[923 rows x 2 columns]"
      ]
     },
     "execution_count": 25,
     "metadata": {},
     "output_type": "execute_result"
    }
   ],
   "source": [
    "series = calculate_application_per_week(data=df, date_column='FILING_DATE')"
   ]
  },
  {
   "cell_type": "markdown",
   "metadata": {},
   "source": [
    "Write preprocessed dataset to Excel to be used for modeling and exploratory"
   ]
  },
  {
   "cell_type": "code",
   "execution_count": 28,
   "metadata": {},
   "outputs": [
    {
     "name": "stdout",
     "output_type": "stream",
     "text": [
      "TITLE               0\n",
      "CPC                 0\n",
      "ASIGNEE          4439\n",
      "FILING_DATE         0\n",
      "YEAR                0\n",
      "PATENT_NO           0\n",
      "CATEGORY            0\n",
      "SUB_CATEGORY        0\n",
      "TAXONOMY_SSTT       0\n",
      "SECTION             0\n",
      "dtype: int64\n"
     ]
    }
   ],
   "source": [
    "missing_data = df.isna()\n",
    "\n",
    "# sum() to count missing values in each column\n",
    "missing_data_count = missing_data.sum()\n",
    "\n",
    "print(missing_data_count)"
   ]
  },
  {
   "cell_type": "code",
   "execution_count": null,
   "metadata": {},
   "outputs": [],
   "source": [
    "# df.to_excel('../data/processed/cleaned_data.xlsx', index=False, sheet_name='cleaned_data')"
   ]
  },
  {
   "cell_type": "markdown",
   "metadata": {},
   "source": [
    "# One Hot Encoding\n",
    "\n",
    "Categorical variables encoding\n",
    "\n",
    "> Will be implemented on the Integrated Dataset\n",
    "\n",
    "**Problem**\n",
    "\n",
    "- Most statistical models cannot take in objects or strings as input, and for model training, only take the numbers as inputs\n",
    "\n",
    "**Solution**\n",
    "- Encode the values by adding new features corresponding to each unique element in the original feature we would like to encode\n",
    "- Add dummy variables for each unique category using `pandas.get_dummies()` method"
   ]
  }
 ],
 "metadata": {
  "kernelspec": {
   "display_name": "base",
   "language": "python",
   "name": "python3"
  },
  "language_info": {
   "codemirror_mode": {
    "name": "ipython",
    "version": 3
   },
   "file_extension": ".py",
   "mimetype": "text/x-python",
   "name": "python",
   "nbconvert_exporter": "python",
   "pygments_lexer": "ipython3",
   "version": "3.11.7"
  }
 },
 "nbformat": 4,
 "nbformat_minor": 2
}
